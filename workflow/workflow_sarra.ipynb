{
  "cells": [
    {
      "cell_type": "code",
      "execution_count": 1,
      "id": "6a543d86",
      "metadata": {
        "id": "6a543d86"
      },
      "outputs": [],
      "source": [
        "import pandas as pd\n",
        "import numpy as np\n",
        "from sklearn.linear_model import LinearRegression\n",
        "from sklearn.model_selection import train_test_split\n",
        "from sklearn.metrics import mean_squared_error\n",
        "from sklearn.linear_model import LogisticRegression\n",
        "from sklearn.metrics import accuracy_score\n"
      ]
    },
    {
      "cell_type": "code",
      "execution_count": 2,
      "id": "e0e53aaa",
      "metadata": {
        "id": "e0e53aaa"
      },
      "outputs": [],
      "source": [
        "FILENAME = \"train_series.csv\"\n",
        "# FILENAME = \"test_series.csv\"\n",
        "# Demonstration of the baseline on train series. \n",
        "#Once the test set will be available, you just have to rename FILENAME to correspond to the test returns csv file."
      ]
    },
    {
      "cell_type": "code",
      "execution_count": 3,
      "id": "1380e6b6",
      "metadata": {
        "id": "1380e6b6"
      },
      "outputs": [],
      "source": [
        "returns = pd.read_csv(FILENAME, index_col=0)"
      ]
    },
    {
      "cell_type": "code",
      "source": [
        "returns"
      ],
      "metadata": {
        "colab": {
          "base_uri": "https://localhost:8080/",
          "height": 679
        },
        "id": "-urZe4PLeEkb",
        "outputId": "21a89e55-14ce-4e05-b7d5-20ba41ff3586"
      },
      "id": "-urZe4PLeEkb",
      "execution_count": 4,
      "outputs": [
        {
          "output_type": "execute_result",
          "data": {
            "text/plain": [
              "         Index Name  Index - 9  Index - 8  Index - 7  Index - 6  Index - 5  \\\n",
              "0         V2X Index   0.001045   0.005841   0.003832  -0.027519  -0.103565   \n",
              "1        MOVE Index  -0.021497   0.007891  -0.013175  -0.008436   0.000000   \n",
              "2         SPX Index  -0.001872  -0.008154   0.023588   0.004086   0.003493   \n",
              "3         SPX Index   0.004980  -0.000864   0.001677   0.000000   0.006030   \n",
              "4     EURUSD Curncy   0.000360  -0.001893   0.005579  -0.003056  -0.001171   \n",
              "...             ...        ...        ...        ...        ...        ...   \n",
              "8941      SPX Index  -0.002045  -0.003642   0.008096   0.004949  -0.001264   \n",
              "8942     SX5E Index  -0.027361   0.094386   0.002350  -0.005076   0.022555   \n",
              "8943     SX5E Index  -0.008359   0.021658  -0.015986  -0.023528   0.020072   \n",
              "8944    SRVIX Index   0.011945   0.002567   0.000000   0.005115   0.000364   \n",
              "8945  EURUSD Curncy  -0.001393  -0.001085   0.002864   0.001853  -0.002394   \n",
              "\n",
              "      Index - 4  Index - 3  Index - 2  Index - 1  Index - 0  index ecb  \\\n",
              "0     -0.045086  -0.011265   0.005164   0.054050   0.015779  1126,1471   \n",
              "1      0.026303   0.000556   0.001455   0.007422   0.000000        975   \n",
              "2      0.003300   0.000885  -0.011304   0.005040   0.000156     78,806   \n",
              "3     -0.001083   0.000419   0.001492   0.001018  -0.002582   560,1405   \n",
              "4     -0.001623  -0.002350  -0.006444  -0.000729  -0.000365        404   \n",
              "...         ...        ...        ...        ...        ...        ...   \n",
              "8941   0.000150   0.002482   0.000000  -0.000786  -0.002723        294   \n",
              "8942   0.000963  -0.060170   0.028323   0.006516  -0.000338        277   \n",
              "8943   0.017822   0.005648   0.017045   0.008557  -0.003072     78,806   \n",
              "8944   0.003999   0.012978   0.012458  -0.006032   0.005088    1660,20   \n",
              "8945   0.002549  -0.001080  -0.002164  -0.007300   0.000234        755   \n",
              "\n",
              "     index fed  Index + 1  \n",
              "0           96   0.010597  \n",
              "1          568   0.014492  \n",
              "2      328,695   0.016263  \n",
              "3          118   0.013581  \n",
              "4          261   0.005092  \n",
              "...        ...        ...  \n",
              "8941       195  -0.003198  \n",
              "8942   199,372  -0.050491  \n",
              "8943    99,625   0.008092  \n",
              "8944        79  -0.003784  \n",
              "8945       255   0.001246  \n",
              "\n",
              "[8946 rows x 14 columns]"
            ],
            "text/html": [
              "\n",
              "  <div id=\"df-0d0b5c77-8902-4a83-ab87-21d11b98651a\">\n",
              "    <div class=\"colab-df-container\">\n",
              "      <div>\n",
              "<style scoped>\n",
              "    .dataframe tbody tr th:only-of-type {\n",
              "        vertical-align: middle;\n",
              "    }\n",
              "\n",
              "    .dataframe tbody tr th {\n",
              "        vertical-align: top;\n",
              "    }\n",
              "\n",
              "    .dataframe thead th {\n",
              "        text-align: right;\n",
              "    }\n",
              "</style>\n",
              "<table border=\"1\" class=\"dataframe\">\n",
              "  <thead>\n",
              "    <tr style=\"text-align: right;\">\n",
              "      <th></th>\n",
              "      <th>Index Name</th>\n",
              "      <th>Index - 9</th>\n",
              "      <th>Index - 8</th>\n",
              "      <th>Index - 7</th>\n",
              "      <th>Index - 6</th>\n",
              "      <th>Index - 5</th>\n",
              "      <th>Index - 4</th>\n",
              "      <th>Index - 3</th>\n",
              "      <th>Index - 2</th>\n",
              "      <th>Index - 1</th>\n",
              "      <th>Index - 0</th>\n",
              "      <th>index ecb</th>\n",
              "      <th>index fed</th>\n",
              "      <th>Index + 1</th>\n",
              "    </tr>\n",
              "  </thead>\n",
              "  <tbody>\n",
              "    <tr>\n",
              "      <th>0</th>\n",
              "      <td>V2X Index</td>\n",
              "      <td>0.001045</td>\n",
              "      <td>0.005841</td>\n",
              "      <td>0.003832</td>\n",
              "      <td>-0.027519</td>\n",
              "      <td>-0.103565</td>\n",
              "      <td>-0.045086</td>\n",
              "      <td>-0.011265</td>\n",
              "      <td>0.005164</td>\n",
              "      <td>0.054050</td>\n",
              "      <td>0.015779</td>\n",
              "      <td>1126,1471</td>\n",
              "      <td>96</td>\n",
              "      <td>0.010597</td>\n",
              "    </tr>\n",
              "    <tr>\n",
              "      <th>1</th>\n",
              "      <td>MOVE Index</td>\n",
              "      <td>-0.021497</td>\n",
              "      <td>0.007891</td>\n",
              "      <td>-0.013175</td>\n",
              "      <td>-0.008436</td>\n",
              "      <td>0.000000</td>\n",
              "      <td>0.026303</td>\n",
              "      <td>0.000556</td>\n",
              "      <td>0.001455</td>\n",
              "      <td>0.007422</td>\n",
              "      <td>0.000000</td>\n",
              "      <td>975</td>\n",
              "      <td>568</td>\n",
              "      <td>0.014492</td>\n",
              "    </tr>\n",
              "    <tr>\n",
              "      <th>2</th>\n",
              "      <td>SPX Index</td>\n",
              "      <td>-0.001872</td>\n",
              "      <td>-0.008154</td>\n",
              "      <td>0.023588</td>\n",
              "      <td>0.004086</td>\n",
              "      <td>0.003493</td>\n",
              "      <td>0.003300</td>\n",
              "      <td>0.000885</td>\n",
              "      <td>-0.011304</td>\n",
              "      <td>0.005040</td>\n",
              "      <td>0.000156</td>\n",
              "      <td>78,806</td>\n",
              "      <td>328,695</td>\n",
              "      <td>0.016263</td>\n",
              "    </tr>\n",
              "    <tr>\n",
              "      <th>3</th>\n",
              "      <td>SPX Index</td>\n",
              "      <td>0.004980</td>\n",
              "      <td>-0.000864</td>\n",
              "      <td>0.001677</td>\n",
              "      <td>0.000000</td>\n",
              "      <td>0.006030</td>\n",
              "      <td>-0.001083</td>\n",
              "      <td>0.000419</td>\n",
              "      <td>0.001492</td>\n",
              "      <td>0.001018</td>\n",
              "      <td>-0.002582</td>\n",
              "      <td>560,1405</td>\n",
              "      <td>118</td>\n",
              "      <td>0.013581</td>\n",
              "    </tr>\n",
              "    <tr>\n",
              "      <th>4</th>\n",
              "      <td>EURUSD Curncy</td>\n",
              "      <td>0.000360</td>\n",
              "      <td>-0.001893</td>\n",
              "      <td>0.005579</td>\n",
              "      <td>-0.003056</td>\n",
              "      <td>-0.001171</td>\n",
              "      <td>-0.001623</td>\n",
              "      <td>-0.002350</td>\n",
              "      <td>-0.006444</td>\n",
              "      <td>-0.000729</td>\n",
              "      <td>-0.000365</td>\n",
              "      <td>404</td>\n",
              "      <td>261</td>\n",
              "      <td>0.005092</td>\n",
              "    </tr>\n",
              "    <tr>\n",
              "      <th>...</th>\n",
              "      <td>...</td>\n",
              "      <td>...</td>\n",
              "      <td>...</td>\n",
              "      <td>...</td>\n",
              "      <td>...</td>\n",
              "      <td>...</td>\n",
              "      <td>...</td>\n",
              "      <td>...</td>\n",
              "      <td>...</td>\n",
              "      <td>...</td>\n",
              "      <td>...</td>\n",
              "      <td>...</td>\n",
              "      <td>...</td>\n",
              "      <td>...</td>\n",
              "    </tr>\n",
              "    <tr>\n",
              "      <th>8941</th>\n",
              "      <td>SPX Index</td>\n",
              "      <td>-0.002045</td>\n",
              "      <td>-0.003642</td>\n",
              "      <td>0.008096</td>\n",
              "      <td>0.004949</td>\n",
              "      <td>-0.001264</td>\n",
              "      <td>0.000150</td>\n",
              "      <td>0.002482</td>\n",
              "      <td>0.000000</td>\n",
              "      <td>-0.000786</td>\n",
              "      <td>-0.002723</td>\n",
              "      <td>294</td>\n",
              "      <td>195</td>\n",
              "      <td>-0.003198</td>\n",
              "    </tr>\n",
              "    <tr>\n",
              "      <th>8942</th>\n",
              "      <td>SX5E Index</td>\n",
              "      <td>-0.027361</td>\n",
              "      <td>0.094386</td>\n",
              "      <td>0.002350</td>\n",
              "      <td>-0.005076</td>\n",
              "      <td>0.022555</td>\n",
              "      <td>0.000963</td>\n",
              "      <td>-0.060170</td>\n",
              "      <td>0.028323</td>\n",
              "      <td>0.006516</td>\n",
              "      <td>-0.000338</td>\n",
              "      <td>277</td>\n",
              "      <td>199,372</td>\n",
              "      <td>-0.050491</td>\n",
              "    </tr>\n",
              "    <tr>\n",
              "      <th>8943</th>\n",
              "      <td>SX5E Index</td>\n",
              "      <td>-0.008359</td>\n",
              "      <td>0.021658</td>\n",
              "      <td>-0.015986</td>\n",
              "      <td>-0.023528</td>\n",
              "      <td>0.020072</td>\n",
              "      <td>0.017822</td>\n",
              "      <td>0.005648</td>\n",
              "      <td>0.017045</td>\n",
              "      <td>0.008557</td>\n",
              "      <td>-0.003072</td>\n",
              "      <td>78,806</td>\n",
              "      <td>99,625</td>\n",
              "      <td>0.008092</td>\n",
              "    </tr>\n",
              "    <tr>\n",
              "      <th>8944</th>\n",
              "      <td>SRVIX Index</td>\n",
              "      <td>0.011945</td>\n",
              "      <td>0.002567</td>\n",
              "      <td>0.000000</td>\n",
              "      <td>0.005115</td>\n",
              "      <td>0.000364</td>\n",
              "      <td>0.003999</td>\n",
              "      <td>0.012978</td>\n",
              "      <td>0.012458</td>\n",
              "      <td>-0.006032</td>\n",
              "      <td>0.005088</td>\n",
              "      <td>1660,20</td>\n",
              "      <td>79</td>\n",
              "      <td>-0.003784</td>\n",
              "    </tr>\n",
              "    <tr>\n",
              "      <th>8945</th>\n",
              "      <td>EURUSD Curncy</td>\n",
              "      <td>-0.001393</td>\n",
              "      <td>-0.001085</td>\n",
              "      <td>0.002864</td>\n",
              "      <td>0.001853</td>\n",
              "      <td>-0.002394</td>\n",
              "      <td>0.002549</td>\n",
              "      <td>-0.001080</td>\n",
              "      <td>-0.002164</td>\n",
              "      <td>-0.007300</td>\n",
              "      <td>0.000234</td>\n",
              "      <td>755</td>\n",
              "      <td>255</td>\n",
              "      <td>0.001246</td>\n",
              "    </tr>\n",
              "  </tbody>\n",
              "</table>\n",
              "<p>8946 rows × 14 columns</p>\n",
              "</div>\n",
              "      <button class=\"colab-df-convert\" onclick=\"convertToInteractive('df-0d0b5c77-8902-4a83-ab87-21d11b98651a')\"\n",
              "              title=\"Convert this dataframe to an interactive table.\"\n",
              "              style=\"display:none;\">\n",
              "        \n",
              "  <svg xmlns=\"http://www.w3.org/2000/svg\" height=\"24px\"viewBox=\"0 0 24 24\"\n",
              "       width=\"24px\">\n",
              "    <path d=\"M0 0h24v24H0V0z\" fill=\"none\"/>\n",
              "    <path d=\"M18.56 5.44l.94 2.06.94-2.06 2.06-.94-2.06-.94-.94-2.06-.94 2.06-2.06.94zm-11 1L8.5 8.5l.94-2.06 2.06-.94-2.06-.94L8.5 2.5l-.94 2.06-2.06.94zm10 10l.94 2.06.94-2.06 2.06-.94-2.06-.94-.94-2.06-.94 2.06-2.06.94z\"/><path d=\"M17.41 7.96l-1.37-1.37c-.4-.4-.92-.59-1.43-.59-.52 0-1.04.2-1.43.59L10.3 9.45l-7.72 7.72c-.78.78-.78 2.05 0 2.83L4 21.41c.39.39.9.59 1.41.59.51 0 1.02-.2 1.41-.59l7.78-7.78 2.81-2.81c.8-.78.8-2.07 0-2.86zM5.41 20L4 18.59l7.72-7.72 1.47 1.35L5.41 20z\"/>\n",
              "  </svg>\n",
              "      </button>\n",
              "      \n",
              "  <style>\n",
              "    .colab-df-container {\n",
              "      display:flex;\n",
              "      flex-wrap:wrap;\n",
              "      gap: 12px;\n",
              "    }\n",
              "\n",
              "    .colab-df-convert {\n",
              "      background-color: #E8F0FE;\n",
              "      border: none;\n",
              "      border-radius: 50%;\n",
              "      cursor: pointer;\n",
              "      display: none;\n",
              "      fill: #1967D2;\n",
              "      height: 32px;\n",
              "      padding: 0 0 0 0;\n",
              "      width: 32px;\n",
              "    }\n",
              "\n",
              "    .colab-df-convert:hover {\n",
              "      background-color: #E2EBFA;\n",
              "      box-shadow: 0px 1px 2px rgba(60, 64, 67, 0.3), 0px 1px 3px 1px rgba(60, 64, 67, 0.15);\n",
              "      fill: #174EA6;\n",
              "    }\n",
              "\n",
              "    [theme=dark] .colab-df-convert {\n",
              "      background-color: #3B4455;\n",
              "      fill: #D2E3FC;\n",
              "    }\n",
              "\n",
              "    [theme=dark] .colab-df-convert:hover {\n",
              "      background-color: #434B5C;\n",
              "      box-shadow: 0px 1px 3px 1px rgba(0, 0, 0, 0.15);\n",
              "      filter: drop-shadow(0px 1px 2px rgba(0, 0, 0, 0.3));\n",
              "      fill: #FFFFFF;\n",
              "    }\n",
              "  </style>\n",
              "\n",
              "      <script>\n",
              "        const buttonEl =\n",
              "          document.querySelector('#df-0d0b5c77-8902-4a83-ab87-21d11b98651a button.colab-df-convert');\n",
              "        buttonEl.style.display =\n",
              "          google.colab.kernel.accessAllowed ? 'block' : 'none';\n",
              "\n",
              "        async function convertToInteractive(key) {\n",
              "          const element = document.querySelector('#df-0d0b5c77-8902-4a83-ab87-21d11b98651a');\n",
              "          const dataTable =\n",
              "            await google.colab.kernel.invokeFunction('convertToInteractive',\n",
              "                                                     [key], {});\n",
              "          if (!dataTable) return;\n",
              "\n",
              "          const docLinkHtml = 'Like what you see? Visit the ' +\n",
              "            '<a target=\"_blank\" href=https://colab.research.google.com/notebooks/data_table.ipynb>data table notebook</a>'\n",
              "            + ' to learn more about interactive tables.';\n",
              "          element.innerHTML = '';\n",
              "          dataTable['output_type'] = 'display_data';\n",
              "          await google.colab.output.renderOutput(dataTable, element);\n",
              "          const docLink = document.createElement('div');\n",
              "          docLink.innerHTML = docLinkHtml;\n",
              "          element.appendChild(docLink);\n",
              "        }\n",
              "      </script>\n",
              "    </div>\n",
              "  </div>\n",
              "  "
            ]
          },
          "metadata": {},
          "execution_count": 4
        }
      ]
    },
    {
      "cell_type": "code",
      "source": [
        "returns['Index Name'].value_counts(dropna = False)"
      ],
      "metadata": {
        "colab": {
          "base_uri": "https://localhost:8080/"
        },
        "id": "9QJ7AAwEcd50",
        "outputId": "89e68820-7875-4a92-a5be-43a2aa6d0896"
      },
      "id": "9QJ7AAwEcd50",
      "execution_count": 5,
      "outputs": [
        {
          "output_type": "execute_result",
          "data": {
            "text/plain": [
              "V2X Index           994\n",
              "MOVE Index          994\n",
              "SPX Index           994\n",
              "EURUSD Curncy       994\n",
              "EURUSDV1M Curncy    994\n",
              "CVIX Index          994\n",
              "VIX Index           994\n",
              "SX5E Index          994\n",
              "SRVIX Index         994\n",
              "Name: Index Name, dtype: int64"
            ]
          },
          "metadata": {},
          "execution_count": 5
        }
      ]
    },
    {
      "cell_type": "code",
      "source": [
        "returns.info()\n",
        "\n",
        "#Index ecb et Index fed ne sont PAS de type numeric ou float"
      ],
      "metadata": {
        "colab": {
          "base_uri": "https://localhost:8080/"
        },
        "id": "SMXGaoZooJwn",
        "outputId": "a6f17ed8-605a-4499-c971-efad22dec698"
      },
      "id": "SMXGaoZooJwn",
      "execution_count": 6,
      "outputs": [
        {
          "output_type": "stream",
          "name": "stdout",
          "text": [
            "<class 'pandas.core.frame.DataFrame'>\n",
            "Int64Index: 8946 entries, 0 to 8945\n",
            "Data columns (total 14 columns):\n",
            " #   Column      Non-Null Count  Dtype  \n",
            "---  ------      --------------  -----  \n",
            " 0   Index Name  8946 non-null   object \n",
            " 1   Index - 9   8946 non-null   float64\n",
            " 2   Index - 8   8946 non-null   float64\n",
            " 3   Index - 7   8946 non-null   float64\n",
            " 4   Index - 6   8946 non-null   float64\n",
            " 5   Index - 5   8946 non-null   float64\n",
            " 6   Index - 4   8946 non-null   float64\n",
            " 7   Index - 3   8946 non-null   float64\n",
            " 8   Index - 2   8946 non-null   float64\n",
            " 9   Index - 1   8946 non-null   float64\n",
            " 10  Index - 0   8946 non-null   float64\n",
            " 11  index ecb   8946 non-null   object \n",
            " 12  index fed   8946 non-null   object \n",
            " 13  Index + 1   8946 non-null   float64\n",
            "dtypes: float64(11), object(3)\n",
            "memory usage: 1.0+ MB\n"
          ]
        }
      ]
    },
    {
      "cell_type": "code",
      "source": [
        "returns.isnull().sum()\n",
        "#Il n y a pas de donnees manquantes"
      ],
      "metadata": {
        "colab": {
          "base_uri": "https://localhost:8080/"
        },
        "id": "2S0PleeAfC5B",
        "outputId": "abc2b0e4-a702-4dd6-e37e-f1ad38ee6650"
      },
      "id": "2S0PleeAfC5B",
      "execution_count": 7,
      "outputs": [
        {
          "output_type": "execute_result",
          "data": {
            "text/plain": [
              "Index Name    0\n",
              "Index - 9     0\n",
              "Index - 8     0\n",
              "Index - 7     0\n",
              "Index - 6     0\n",
              "Index - 5     0\n",
              "Index - 4     0\n",
              "Index - 3     0\n",
              "Index - 2     0\n",
              "Index - 1     0\n",
              "Index - 0     0\n",
              "index ecb     0\n",
              "index fed     0\n",
              "Index + 1     0\n",
              "dtype: int64"
            ]
          },
          "metadata": {},
          "execution_count": 7
        }
      ]
    },
    {
      "cell_type": "code",
      "execution_count": 8,
      "id": "9d2476dc",
      "metadata": {
        "id": "9d2476dc"
      },
      "outputs": [],
      "source": [
        "returns.drop(\"Index Name\", axis=1, inplace=True)\n",
        "returns.drop(\"index ecb\", axis=1, inplace=True)\n",
        "returns.drop(\"index fed\", axis=1, inplace=True)\n",
        "#returns.drop(\"Index + 1\", axis=1, inplace=True)"
      ]
    },
    {
      "cell_type": "code",
      "source": [
        "#On split les donnees\n",
        "var_feature = [o for o in returns.columns if o!=\"Index + 1\"]\n",
        "X = returns[var_feature]\n",
        "Y = returns[\"Index + 1\"]\n",
        "\n",
        "X_train, X_test, Y_train, Y_test = train_test_split(X,Y,test_size=0.33,random_state=2022)\n"
      ],
      "metadata": {
        "id": "EQCH-1I8haoh"
      },
      "id": "EQCH-1I8haoh",
      "execution_count": 9,
      "outputs": []
    },
    {
      "cell_type": "code",
      "source": [
        "#Modele lineaire standard gaussien avec les donnees des 10 jours precedents juste pour voir \n",
        "\n",
        "lin_model = LinearRegression()\n",
        "lin_model.fit(X_train, Y_train)"
      ],
      "metadata": {
        "colab": {
          "base_uri": "https://localhost:8080/"
        },
        "id": "6rzCjK2El5BK",
        "outputId": "2b734665-4d20-435f-beb8-52b4b8c2d9cd"
      },
      "id": "6rzCjK2El5BK",
      "execution_count": 10,
      "outputs": [
        {
          "output_type": "execute_result",
          "data": {
            "text/plain": [
              "LinearRegression()"
            ]
          },
          "metadata": {},
          "execution_count": 10
        }
      ]
    },
    {
      "cell_type": "code",
      "source": [
        "mean_squared_error(Y_test, lin_model.predict(X_test))"
      ],
      "metadata": {
        "colab": {
          "base_uri": "https://localhost:8080/"
        },
        "id": "ucblerajmJDk",
        "outputId": "134aad98-bceb-4b6e-a946-865d88166dec"
      },
      "id": "ucblerajmJDk",
      "execution_count": 11,
      "outputs": [
        {
          "output_type": "execute_result",
          "data": {
            "text/plain": [
              "0.0015722400183083266"
            ]
          },
          "metadata": {},
          "execution_count": 11
        }
      ]
    },
    {
      "cell_type": "code",
      "source": [
        "#Classification \n",
        "returns['class'] = returns['Index + 1'] > 0"
      ],
      "metadata": {
        "id": "w4kDoSjCpcgQ"
      },
      "id": "w4kDoSjCpcgQ",
      "execution_count": 12,
      "outputs": []
    },
    {
      "cell_type": "code",
      "source": [
        "returns"
      ],
      "metadata": {
        "colab": {
          "base_uri": "https://localhost:8080/",
          "height": 485
        },
        "id": "KnJ5CPO1q9e2",
        "outputId": "9b21f5ce-706c-4b10-9816-351b082e4e25"
      },
      "id": "KnJ5CPO1q9e2",
      "execution_count": 13,
      "outputs": [
        {
          "output_type": "execute_result",
          "data": {
            "text/plain": [
              "      Index - 9  Index - 8  Index - 7  Index - 6  Index - 5  Index - 4  \\\n",
              "0      0.001045   0.005841   0.003832  -0.027519  -0.103565  -0.045086   \n",
              "1     -0.021497   0.007891  -0.013175  -0.008436   0.000000   0.026303   \n",
              "2     -0.001872  -0.008154   0.023588   0.004086   0.003493   0.003300   \n",
              "3      0.004980  -0.000864   0.001677   0.000000   0.006030  -0.001083   \n",
              "4      0.000360  -0.001893   0.005579  -0.003056  -0.001171  -0.001623   \n",
              "...         ...        ...        ...        ...        ...        ...   \n",
              "8941  -0.002045  -0.003642   0.008096   0.004949  -0.001264   0.000150   \n",
              "8942  -0.027361   0.094386   0.002350  -0.005076   0.022555   0.000963   \n",
              "8943  -0.008359   0.021658  -0.015986  -0.023528   0.020072   0.017822   \n",
              "8944   0.011945   0.002567   0.000000   0.005115   0.000364   0.003999   \n",
              "8945  -0.001393  -0.001085   0.002864   0.001853  -0.002394   0.002549   \n",
              "\n",
              "      Index - 3  Index - 2  Index - 1  Index - 0  Index + 1  class  \n",
              "0     -0.011265   0.005164   0.054050   0.015779   0.010597   True  \n",
              "1      0.000556   0.001455   0.007422   0.000000   0.014492   True  \n",
              "2      0.000885  -0.011304   0.005040   0.000156   0.016263   True  \n",
              "3      0.000419   0.001492   0.001018  -0.002582   0.013581   True  \n",
              "4     -0.002350  -0.006444  -0.000729  -0.000365   0.005092   True  \n",
              "...         ...        ...        ...        ...        ...    ...  \n",
              "8941   0.002482   0.000000  -0.000786  -0.002723  -0.003198  False  \n",
              "8942  -0.060170   0.028323   0.006516  -0.000338  -0.050491  False  \n",
              "8943   0.005648   0.017045   0.008557  -0.003072   0.008092   True  \n",
              "8944   0.012978   0.012458  -0.006032   0.005088  -0.003784  False  \n",
              "8945  -0.001080  -0.002164  -0.007300   0.000234   0.001246   True  \n",
              "\n",
              "[8946 rows x 12 columns]"
            ],
            "text/html": [
              "\n",
              "  <div id=\"df-a9d686a3-e661-46ac-b181-1d88a7eb7853\">\n",
              "    <div class=\"colab-df-container\">\n",
              "      <div>\n",
              "<style scoped>\n",
              "    .dataframe tbody tr th:only-of-type {\n",
              "        vertical-align: middle;\n",
              "    }\n",
              "\n",
              "    .dataframe tbody tr th {\n",
              "        vertical-align: top;\n",
              "    }\n",
              "\n",
              "    .dataframe thead th {\n",
              "        text-align: right;\n",
              "    }\n",
              "</style>\n",
              "<table border=\"1\" class=\"dataframe\">\n",
              "  <thead>\n",
              "    <tr style=\"text-align: right;\">\n",
              "      <th></th>\n",
              "      <th>Index - 9</th>\n",
              "      <th>Index - 8</th>\n",
              "      <th>Index - 7</th>\n",
              "      <th>Index - 6</th>\n",
              "      <th>Index - 5</th>\n",
              "      <th>Index - 4</th>\n",
              "      <th>Index - 3</th>\n",
              "      <th>Index - 2</th>\n",
              "      <th>Index - 1</th>\n",
              "      <th>Index - 0</th>\n",
              "      <th>Index + 1</th>\n",
              "      <th>class</th>\n",
              "    </tr>\n",
              "  </thead>\n",
              "  <tbody>\n",
              "    <tr>\n",
              "      <th>0</th>\n",
              "      <td>0.001045</td>\n",
              "      <td>0.005841</td>\n",
              "      <td>0.003832</td>\n",
              "      <td>-0.027519</td>\n",
              "      <td>-0.103565</td>\n",
              "      <td>-0.045086</td>\n",
              "      <td>-0.011265</td>\n",
              "      <td>0.005164</td>\n",
              "      <td>0.054050</td>\n",
              "      <td>0.015779</td>\n",
              "      <td>0.010597</td>\n",
              "      <td>True</td>\n",
              "    </tr>\n",
              "    <tr>\n",
              "      <th>1</th>\n",
              "      <td>-0.021497</td>\n",
              "      <td>0.007891</td>\n",
              "      <td>-0.013175</td>\n",
              "      <td>-0.008436</td>\n",
              "      <td>0.000000</td>\n",
              "      <td>0.026303</td>\n",
              "      <td>0.000556</td>\n",
              "      <td>0.001455</td>\n",
              "      <td>0.007422</td>\n",
              "      <td>0.000000</td>\n",
              "      <td>0.014492</td>\n",
              "      <td>True</td>\n",
              "    </tr>\n",
              "    <tr>\n",
              "      <th>2</th>\n",
              "      <td>-0.001872</td>\n",
              "      <td>-0.008154</td>\n",
              "      <td>0.023588</td>\n",
              "      <td>0.004086</td>\n",
              "      <td>0.003493</td>\n",
              "      <td>0.003300</td>\n",
              "      <td>0.000885</td>\n",
              "      <td>-0.011304</td>\n",
              "      <td>0.005040</td>\n",
              "      <td>0.000156</td>\n",
              "      <td>0.016263</td>\n",
              "      <td>True</td>\n",
              "    </tr>\n",
              "    <tr>\n",
              "      <th>3</th>\n",
              "      <td>0.004980</td>\n",
              "      <td>-0.000864</td>\n",
              "      <td>0.001677</td>\n",
              "      <td>0.000000</td>\n",
              "      <td>0.006030</td>\n",
              "      <td>-0.001083</td>\n",
              "      <td>0.000419</td>\n",
              "      <td>0.001492</td>\n",
              "      <td>0.001018</td>\n",
              "      <td>-0.002582</td>\n",
              "      <td>0.013581</td>\n",
              "      <td>True</td>\n",
              "    </tr>\n",
              "    <tr>\n",
              "      <th>4</th>\n",
              "      <td>0.000360</td>\n",
              "      <td>-0.001893</td>\n",
              "      <td>0.005579</td>\n",
              "      <td>-0.003056</td>\n",
              "      <td>-0.001171</td>\n",
              "      <td>-0.001623</td>\n",
              "      <td>-0.002350</td>\n",
              "      <td>-0.006444</td>\n",
              "      <td>-0.000729</td>\n",
              "      <td>-0.000365</td>\n",
              "      <td>0.005092</td>\n",
              "      <td>True</td>\n",
              "    </tr>\n",
              "    <tr>\n",
              "      <th>...</th>\n",
              "      <td>...</td>\n",
              "      <td>...</td>\n",
              "      <td>...</td>\n",
              "      <td>...</td>\n",
              "      <td>...</td>\n",
              "      <td>...</td>\n",
              "      <td>...</td>\n",
              "      <td>...</td>\n",
              "      <td>...</td>\n",
              "      <td>...</td>\n",
              "      <td>...</td>\n",
              "      <td>...</td>\n",
              "    </tr>\n",
              "    <tr>\n",
              "      <th>8941</th>\n",
              "      <td>-0.002045</td>\n",
              "      <td>-0.003642</td>\n",
              "      <td>0.008096</td>\n",
              "      <td>0.004949</td>\n",
              "      <td>-0.001264</td>\n",
              "      <td>0.000150</td>\n",
              "      <td>0.002482</td>\n",
              "      <td>0.000000</td>\n",
              "      <td>-0.000786</td>\n",
              "      <td>-0.002723</td>\n",
              "      <td>-0.003198</td>\n",
              "      <td>False</td>\n",
              "    </tr>\n",
              "    <tr>\n",
              "      <th>8942</th>\n",
              "      <td>-0.027361</td>\n",
              "      <td>0.094386</td>\n",
              "      <td>0.002350</td>\n",
              "      <td>-0.005076</td>\n",
              "      <td>0.022555</td>\n",
              "      <td>0.000963</td>\n",
              "      <td>-0.060170</td>\n",
              "      <td>0.028323</td>\n",
              "      <td>0.006516</td>\n",
              "      <td>-0.000338</td>\n",
              "      <td>-0.050491</td>\n",
              "      <td>False</td>\n",
              "    </tr>\n",
              "    <tr>\n",
              "      <th>8943</th>\n",
              "      <td>-0.008359</td>\n",
              "      <td>0.021658</td>\n",
              "      <td>-0.015986</td>\n",
              "      <td>-0.023528</td>\n",
              "      <td>0.020072</td>\n",
              "      <td>0.017822</td>\n",
              "      <td>0.005648</td>\n",
              "      <td>0.017045</td>\n",
              "      <td>0.008557</td>\n",
              "      <td>-0.003072</td>\n",
              "      <td>0.008092</td>\n",
              "      <td>True</td>\n",
              "    </tr>\n",
              "    <tr>\n",
              "      <th>8944</th>\n",
              "      <td>0.011945</td>\n",
              "      <td>0.002567</td>\n",
              "      <td>0.000000</td>\n",
              "      <td>0.005115</td>\n",
              "      <td>0.000364</td>\n",
              "      <td>0.003999</td>\n",
              "      <td>0.012978</td>\n",
              "      <td>0.012458</td>\n",
              "      <td>-0.006032</td>\n",
              "      <td>0.005088</td>\n",
              "      <td>-0.003784</td>\n",
              "      <td>False</td>\n",
              "    </tr>\n",
              "    <tr>\n",
              "      <th>8945</th>\n",
              "      <td>-0.001393</td>\n",
              "      <td>-0.001085</td>\n",
              "      <td>0.002864</td>\n",
              "      <td>0.001853</td>\n",
              "      <td>-0.002394</td>\n",
              "      <td>0.002549</td>\n",
              "      <td>-0.001080</td>\n",
              "      <td>-0.002164</td>\n",
              "      <td>-0.007300</td>\n",
              "      <td>0.000234</td>\n",
              "      <td>0.001246</td>\n",
              "      <td>True</td>\n",
              "    </tr>\n",
              "  </tbody>\n",
              "</table>\n",
              "<p>8946 rows × 12 columns</p>\n",
              "</div>\n",
              "      <button class=\"colab-df-convert\" onclick=\"convertToInteractive('df-a9d686a3-e661-46ac-b181-1d88a7eb7853')\"\n",
              "              title=\"Convert this dataframe to an interactive table.\"\n",
              "              style=\"display:none;\">\n",
              "        \n",
              "  <svg xmlns=\"http://www.w3.org/2000/svg\" height=\"24px\"viewBox=\"0 0 24 24\"\n",
              "       width=\"24px\">\n",
              "    <path d=\"M0 0h24v24H0V0z\" fill=\"none\"/>\n",
              "    <path d=\"M18.56 5.44l.94 2.06.94-2.06 2.06-.94-2.06-.94-.94-2.06-.94 2.06-2.06.94zm-11 1L8.5 8.5l.94-2.06 2.06-.94-2.06-.94L8.5 2.5l-.94 2.06-2.06.94zm10 10l.94 2.06.94-2.06 2.06-.94-2.06-.94-.94-2.06-.94 2.06-2.06.94z\"/><path d=\"M17.41 7.96l-1.37-1.37c-.4-.4-.92-.59-1.43-.59-.52 0-1.04.2-1.43.59L10.3 9.45l-7.72 7.72c-.78.78-.78 2.05 0 2.83L4 21.41c.39.39.9.59 1.41.59.51 0 1.02-.2 1.41-.59l7.78-7.78 2.81-2.81c.8-.78.8-2.07 0-2.86zM5.41 20L4 18.59l7.72-7.72 1.47 1.35L5.41 20z\"/>\n",
              "  </svg>\n",
              "      </button>\n",
              "      \n",
              "  <style>\n",
              "    .colab-df-container {\n",
              "      display:flex;\n",
              "      flex-wrap:wrap;\n",
              "      gap: 12px;\n",
              "    }\n",
              "\n",
              "    .colab-df-convert {\n",
              "      background-color: #E8F0FE;\n",
              "      border: none;\n",
              "      border-radius: 50%;\n",
              "      cursor: pointer;\n",
              "      display: none;\n",
              "      fill: #1967D2;\n",
              "      height: 32px;\n",
              "      padding: 0 0 0 0;\n",
              "      width: 32px;\n",
              "    }\n",
              "\n",
              "    .colab-df-convert:hover {\n",
              "      background-color: #E2EBFA;\n",
              "      box-shadow: 0px 1px 2px rgba(60, 64, 67, 0.3), 0px 1px 3px 1px rgba(60, 64, 67, 0.15);\n",
              "      fill: #174EA6;\n",
              "    }\n",
              "\n",
              "    [theme=dark] .colab-df-convert {\n",
              "      background-color: #3B4455;\n",
              "      fill: #D2E3FC;\n",
              "    }\n",
              "\n",
              "    [theme=dark] .colab-df-convert:hover {\n",
              "      background-color: #434B5C;\n",
              "      box-shadow: 0px 1px 3px 1px rgba(0, 0, 0, 0.15);\n",
              "      filter: drop-shadow(0px 1px 2px rgba(0, 0, 0, 0.3));\n",
              "      fill: #FFFFFF;\n",
              "    }\n",
              "  </style>\n",
              "\n",
              "      <script>\n",
              "        const buttonEl =\n",
              "          document.querySelector('#df-a9d686a3-e661-46ac-b181-1d88a7eb7853 button.colab-df-convert');\n",
              "        buttonEl.style.display =\n",
              "          google.colab.kernel.accessAllowed ? 'block' : 'none';\n",
              "\n",
              "        async function convertToInteractive(key) {\n",
              "          const element = document.querySelector('#df-a9d686a3-e661-46ac-b181-1d88a7eb7853');\n",
              "          const dataTable =\n",
              "            await google.colab.kernel.invokeFunction('convertToInteractive',\n",
              "                                                     [key], {});\n",
              "          if (!dataTable) return;\n",
              "\n",
              "          const docLinkHtml = 'Like what you see? Visit the ' +\n",
              "            '<a target=\"_blank\" href=https://colab.research.google.com/notebooks/data_table.ipynb>data table notebook</a>'\n",
              "            + ' to learn more about interactive tables.';\n",
              "          element.innerHTML = '';\n",
              "          dataTable['output_type'] = 'display_data';\n",
              "          await google.colab.output.renderOutput(dataTable, element);\n",
              "          const docLink = document.createElement('div');\n",
              "          docLink.innerHTML = docLinkHtml;\n",
              "          element.appendChild(docLink);\n",
              "        }\n",
              "      </script>\n",
              "    </div>\n",
              "  </div>\n",
              "  "
            ]
          },
          "metadata": {},
          "execution_count": 13
        }
      ]
    },
    {
      "cell_type": "code",
      "source": [
        "var_feature = [o for o in returns.columns if o!=\"Index + 1\" and  o!=\"class\"]\n",
        "X = returns[var_feature]\n",
        "Y = returns[\"class\"]"
      ],
      "metadata": {
        "id": "ZtsZSWdIrGIs"
      },
      "id": "ZtsZSWdIrGIs",
      "execution_count": 14,
      "outputs": []
    },
    {
      "cell_type": "code",
      "source": [
        "X_train, X_test, Y_train, Y_test = train_test_split(X,Y,test_size=0.33,random_state=2022)\n",
        "\n",
        "clf = LogisticRegression()\n",
        "\n",
        "clf.fit(X_train, Y_train)\n",
        "\n",
        "accuracy_score(Y_test, clf.predict(X_test))"
      ],
      "metadata": {
        "colab": {
          "base_uri": "https://localhost:8080/"
        },
        "id": "gwzLAOXiriB9",
        "outputId": "311cc4ad-2e5f-471e-879e-91b17a86e396"
      },
      "id": "gwzLAOXiriB9",
      "execution_count": 15,
      "outputs": [
        {
          "output_type": "execute_result",
          "data": {
            "text/plain": [
              "0.55367422959702"
            ]
          },
          "metadata": {},
          "execution_count": 15
        }
      ]
    },
    {
      "cell_type": "code",
      "source": [
        "pip install pyclustering\n"
      ],
      "metadata": {
        "colab": {
          "base_uri": "https://localhost:8080/"
        },
        "id": "piYdB7iG9bQ3",
        "outputId": "fa8d2854-654b-4092-8e67-2f25d99ee5eb"
      },
      "id": "piYdB7iG9bQ3",
      "execution_count": 16,
      "outputs": [
        {
          "output_type": "stream",
          "name": "stdout",
          "text": [
            "Looking in indexes: https://pypi.org/simple, https://us-python.pkg.dev/colab-wheels/public/simple/\n",
            "Collecting pyclustering\n",
            "  Downloading pyclustering-0.10.1.2.tar.gz (2.6 MB)\n",
            "\u001b[2K     \u001b[90m━━━━━━━━━━━━━━━━━━━━━━━━━━━━━━━━━━━━━━━━\u001b[0m \u001b[32m2.6/2.6 MB\u001b[0m \u001b[31m46.3 MB/s\u001b[0m eta \u001b[36m0:00:00\u001b[0m\n",
            "\u001b[?25h  Preparing metadata (setup.py) ... \u001b[?25l\u001b[?25hdone\n",
            "Requirement already satisfied: scipy>=1.1.0 in /usr/local/lib/python3.8/dist-packages (from pyclustering) (1.7.3)\n",
            "Requirement already satisfied: matplotlib>=3.0.0 in /usr/local/lib/python3.8/dist-packages (from pyclustering) (3.2.2)\n",
            "Requirement already satisfied: numpy>=1.15.2 in /usr/local/lib/python3.8/dist-packages (from pyclustering) (1.21.6)\n",
            "Requirement already satisfied: Pillow>=5.2.0 in /usr/local/lib/python3.8/dist-packages (from pyclustering) (7.1.2)\n",
            "Requirement already satisfied: python-dateutil>=2.1 in /usr/local/lib/python3.8/dist-packages (from matplotlib>=3.0.0->pyclustering) (2.8.2)\n",
            "Requirement already satisfied: kiwisolver>=1.0.1 in /usr/local/lib/python3.8/dist-packages (from matplotlib>=3.0.0->pyclustering) (1.4.4)\n",
            "Requirement already satisfied: pyparsing!=2.0.4,!=2.1.2,!=2.1.6,>=2.0.1 in /usr/local/lib/python3.8/dist-packages (from matplotlib>=3.0.0->pyclustering) (3.0.9)\n",
            "Requirement already satisfied: cycler>=0.10 in /usr/local/lib/python3.8/dist-packages (from matplotlib>=3.0.0->pyclustering) (0.11.0)\n",
            "Requirement already satisfied: six>=1.5 in /usr/local/lib/python3.8/dist-packages (from python-dateutil>=2.1->matplotlib>=3.0.0->pyclustering) (1.15.0)\n",
            "Building wheels for collected packages: pyclustering\n",
            "  Building wheel for pyclustering (setup.py) ... \u001b[?25l\u001b[?25hdone\n",
            "  Created wheel for pyclustering: filename=pyclustering-0.10.1.2-py3-none-any.whl size=2395121 sha256=23dbe329dfe0c95a0115a148bc3bc114bd3ba0775d521631e56c0b5b5b86e0da\n",
            "  Stored in directory: /root/.cache/pip/wheels/dc/25/8b/072b221a5cff4f04e7999d39ca1b6cb5dad702cc3e1da951d4\n",
            "Successfully built pyclustering\n",
            "Installing collected packages: pyclustering\n",
            "Successfully installed pyclustering-0.10.1.2\n"
          ]
        }
      ]
    },
    {
      "cell_type": "code",
      "source": [
        "import matplotlib.pyplot as plt\n",
        "import seaborn as sn\n",
        "\n",
        "from sklearn.cluster import KMeans\n",
        "from sklearn.datasets import make_blobs\n",
        "\n",
        "#from pyclustering.cluster import clara\n",
        "from pyclustering.cluster.center_initializer import kmeans_plusplus_initializer\n",
        "from pyclustering.samples.definitions import FCPS_SAMPLES\n",
        "from pyclustering.utils import read_sample\n"
      ],
      "metadata": {
        "id": "4KrieIxm2Cej"
      },
      "id": "4KrieIxm2Cej",
      "execution_count": 19,
      "outputs": []
    },
    {
      "cell_type": "code",
      "source": [
        "import pyclustering.cluster\n"
      ],
      "metadata": {
        "id": "jyw3AM4Ut0FW"
      },
      "id": "jyw3AM4Ut0FW",
      "execution_count": 20,
      "outputs": []
    },
    {
      "cell_type": "code",
      "source": [
        "print(dir(pyclustering.cluster))"
      ],
      "metadata": {
        "colab": {
          "base_uri": "https://localhost:8080/"
        },
        "id": "U3VVqCoot26_",
        "outputId": "8da372dc-71a2-4d02-cc12-919a1825250e"
      },
      "id": "U3VVqCoot26_",
      "execution_count": 21,
      "outputs": [
        {
          "output_type": "stream",
          "name": "stdout",
          "text": [
            "['__builtins__', '__cached__', '__doc__', '__file__', '__loader__', '__name__', '__package__', '__path__', '__spec__', 'canvas_cluster_descr', 'center_initializer', 'cluster_visualizer', 'cluster_visualizer_multidim', 'color_list', 'gridspec', 'itertools', 'math', 'plt']\n"
          ]
        }
      ]
    },
    {
      "cell_type": "code",
      "source": [
        "returns.drop(\"Index + 1\", axis=1, inplace=True)\n"
      ],
      "metadata": {
        "id": "rfutmBFs3mG6"
      },
      "id": "rfutmBFs3mG6",
      "execution_count": 22,
      "outputs": []
    },
    {
      "cell_type": "code",
      "source": [
        "returns.drop(\"class\", axis=1, inplace=True)\n"
      ],
      "metadata": {
        "id": "zMmv3cSP4QZQ"
      },
      "id": "zMmv3cSP4QZQ",
      "execution_count": 23,
      "outputs": []
    },
    {
      "cell_type": "code",
      "source": [
        "#Clustering\n",
        "\n",
        "#Choix du nombre de clusters\n",
        "\n",
        "sse = {}\n",
        "for k in range(1, 10):\n",
        "    kmeans = KMeans(n_clusters=k, max_iter=1000, init='k-means++').fit(returns)\n",
        "    returns[\"clusters\"] = kmeans.labels_\n",
        "    #print(data[\"clusters\"])\n",
        "    sse[k] = kmeans.inertia_ # Inertia: Sum of distances of samples to their closest cluster center\n",
        "plt.figure()\n",
        "plt.plot(list(sse.keys()), list(sse.values()))\n",
        "plt.xlabel(\"Number of cluster\")\n",
        "plt.ylabel(\"SSE\")\n",
        "plt.show()"
      ],
      "metadata": {
        "colab": {
          "base_uri": "https://localhost:8080/",
          "height": 279
        },
        "id": "vEnGlcUR4URW",
        "outputId": "3e6d3b56-cd6a-445a-e328-d1a8fc0501fa"
      },
      "id": "vEnGlcUR4URW",
      "execution_count": 24,
      "outputs": [
        {
          "output_type": "display_data",
          "data": {
            "text/plain": [
              "<Figure size 432x288 with 1 Axes>"
            ],
            "image/png": "[encoded data removed]"
          },
          "metadata": {
            "needs_background": "light"
          }
        }
      ]
    },
    {
      "cell_type": "code",
      "source": [
        "X = returns[[\"Index - 9\", \"Index - 8\",\"Index - 7\",\"Index - 6\", \"Index - 5\", \"Index - 4\", \"Index - 3\", \"Index - 2\",\"Index - 1\", \"Index - 0\"]].values"
      ],
      "metadata": {
        "id": "vYLfkFkX5WJF"
      },
      "id": "vYLfkFkX5WJF",
      "execution_count": 25,
      "outputs": []
    },
    {
      "cell_type": "code",
      "source": [
        "kmeans = KMeans(n_clusters=3)\n",
        "y_kmeans = kmeans.fit_predict(X)\n"
      ],
      "metadata": {
        "id": "-_hvZ16q8PWB"
      },
      "id": "-_hvZ16q8PWB",
      "execution_count": 26,
      "outputs": []
    },
    {
      "cell_type": "code",
      "source": [
        "plt.scatter(X[y_kmeans == 0, 0], X[y_kmeans == 0, 1], s = 100, c = 'red', label = 'Cluster 1')\n",
        "plt.scatter(X[y_kmeans == 1, 0], X[y_kmeans == 1, 1], s = 100, c = 'blue', label = 'Cluster 2')\n",
        "plt.scatter(X[y_kmeans == 2, 0], X[y_kmeans == 2, 1], s = 100, c = 'green', label = 'Cluster 3')"
      ],
      "metadata": {
        "colab": {
          "base_uri": "https://localhost:8080/",
          "height": 283
        },
        "id": "sprVvLy78VtW",
        "outputId": "c6c7a0b1-7817-41ea-9bd8-183bdd5fe3d0"
      },
      "id": "sprVvLy78VtW",
      "execution_count": 27,
      "outputs": [
        {
          "output_type": "execute_result",
          "data": {
            "text/plain": [
              "<matplotlib.collections.PathCollection at 0x7f2e6056be50>"
            ]
          },
          "metadata": {},
          "execution_count": 27
        },
        {
          "output_type": "display_data",
          "data": {
            "text/plain": [
              "<Figure size 432x288 with 1 Axes>"
            ],
            "image/png": "[encoded data removed]"
          },
          "metadata": {
            "needs_background": "light"
          }
        }
      ]
    },
    {
      "cell_type": "code",
      "source": [],
      "metadata": {
        "id": "7Wc0lXwt9Apn"
      },
      "id": "7Wc0lXwt9Apn",
      "execution_count": null,
      "outputs": []
    },
    {
      "cell_type": "markdown",
      "source": [
        "Premier essai d'analyse de sentiments sur les donnees ecb"
      ],
      "metadata": {
        "id": "s1wj58-5tRxf"
      },
      "id": "s1wj58-5tRxf"
    },
    {
      "cell_type": "code",
      "execution_count": 5,
      "id": "093b8196",
      "metadata": {
        "id": "093b8196"
      },
      "outputs": [],
      "source": [
        "ecb = pd.read_csv('/content/ecb_data.csv')"
      ]
    },
    {
      "cell_type": "code",
      "source": [
        "ecb.head(20)"
      ],
      "metadata": {
        "colab": {
          "base_uri": "https://localhost:8080/",
          "height": 721
        },
        "id": "dITP8ifxvGim",
        "outputId": "c4783a96-34fa-413b-844e-449720d218bd"
      },
      "id": "dITP8ifxvGim",
      "execution_count": 6,
      "outputs": [
        {
          "output_type": "execute_result",
          "data": {
            "text/plain": [
              "    Unnamed: 0                                              title  \\\n",
              "0            0  Comments by Yves Mersch at Financial Services ...   \n",
              "1            1  Securing sustained economic growth in the euro...   \n",
              "2            2  The role of monetary policy in addressing the ...   \n",
              "3            3  The pandemic emergency: the three challenges f...   \n",
              "4            4  Transmission channels of monetary policy in th...   \n",
              "5            5  Domestic and cross-border spillovers  of uncon...   \n",
              "6            6  Household Finance and Consumption - Opening re...   \n",
              "7            7  The case for cooperation: cross-border CCP sup...   \n",
              "8            8   Translating a shared vision into a winning story   \n",
              "9            9                                   Q&A at UBS event   \n",
              "10          10  Address at Conferencia Buenos Aires 2008, orga...   \n",
              "11          11                                      Systemic Risk   \n",
              "12          12              Working together for growth in Europe   \n",
              "13          13            The path to recovery and the ECB's role   \n",
              "14          14  Unleashing the euro’s untapped potential at gl...   \n",
              "15          15  Presentation of the book entitled “L'acqua e l...   \n",
              "16          16  A paradigm change for the global financial system   \n",
              "17          17  Undervalued risk and uncertainty: Some thought...   \n",
              "18          18  Monetary and financial stability in the euro area   \n",
              "19          19           Adoption of the euro by Cyprus and Malta   \n",
              "\n",
              "                        speaker  \\\n",
              "0                   Yves Mersch   \n",
              "1              Vítor Constâncio   \n",
              "2                  Mario Draghi   \n",
              "3                Philip R. Lane   \n",
              "4                   Peter Praet   \n",
              "5                  Benoît Cœuré   \n",
              "6   José Manuel González-Páramo   \n",
              "7                  Benoît Cœuré   \n",
              "8                   Yves Mersch   \n",
              "9                   Yves Mersch   \n",
              "10              Lucas Papademos   \n",
              "11          Jean-Claude Trichet   \n",
              "12                 Mario Draghi   \n",
              "13                 Mario Draghi   \n",
              "14                Fabio Panetta   \n",
              "15          Lorenzo Bini Smaghi   \n",
              "16          Jean-Claude Trichet   \n",
              "17          Jean-Claude Trichet   \n",
              "18          Lorenzo Bini Smaghi   \n",
              "19              Lucas Papademos   \n",
              "\n",
              "                                                 text  \n",
              "0     Comments by Yves Mersch at Financial Service...  \n",
              "1     Securing sustained economic growth in the eu...  \n",
              "2     The role of monetary policy in addressing th...  \n",
              "3      SPEECH  The pandemic emergency: the three c...  \n",
              "4     Transmission channels of monetary policy in ...  \n",
              "5     Domestic and cross-border spillovers \n",
              "of unc...  \n",
              "6     Household Finance and Consumption - Opening ...  \n",
              "7     The case for cooperation: cross-border CCP s...  \n",
              "8     Translating a shared vision into a winning s...  \n",
              "9      TRANSCRIPT  Q&A at UBS event   Transcript o...  \n",
              "10    Address at Conferencia Buenos Aires 2008, or...  \n",
              "11    Systemic Risk   Clare Distinguished Lecture ...  \n",
              "12    Working together for growth in Europe   Intr...  \n",
              "13    The path to recovery and the ECB’s role    S...  \n",
              "14     SPEECH Frankfurt am Main (by video conferen...  \n",
              "15    Presentation of the book entitled “L’acqua e...  \n",
              "16    A paradigm change for the global financial s...  \n",
              "17    Undervalued risk and uncertainty: Some thoug...  \n",
              "18    Monetary and financial stability in the euro...  \n",
              "19    Adoption of the euro by Cyprus and Malta   L...  "
            ],
            "text/html": [
              "\n",
              "  <div id=\"df-8455e0e6-38c2-472f-b1d6-d0c34c71de46\">\n",
              "    <div class=\"colab-df-container\">\n",
              "      <div>\n",
              "<style scoped>\n",
              "    .dataframe tbody tr th:only-of-type {\n",
              "        vertical-align: middle;\n",
              "    }\n",
              "\n",
              "    .dataframe tbody tr th {\n",
              "        vertical-align: top;\n",
              "    }\n",
              "\n",
              "    .dataframe thead th {\n",
              "        text-align: right;\n",
              "    }\n",
              "</style>\n",
              "<table border=\"1\" class=\"dataframe\">\n",
              "  <thead>\n",
              "    <tr style=\"text-align: right;\">\n",
              "      <th></th>\n",
              "      <th>Unnamed: 0</th>\n",
              "      <th>title</th>\n",
              "      <th>speaker</th>\n",
              "      <th>text</th>\n",
              "    </tr>\n",
              "  </thead>\n",
              "  <tbody>\n",
              "    <tr>\n",
              "      <th>0</th>\n",
              "      <td>0</td>\n",
              "      <td>Comments by Yves Mersch at Financial Services ...</td>\n",
              "      <td>Yves Mersch</td>\n",
              "      <td>Comments by Yves Mersch at Financial Service...</td>\n",
              "    </tr>\n",
              "    <tr>\n",
              "      <th>1</th>\n",
              "      <td>1</td>\n",
              "      <td>Securing sustained economic growth in the euro...</td>\n",
              "      <td>Vítor Constâncio</td>\n",
              "      <td>Securing sustained economic growth in the eu...</td>\n",
              "    </tr>\n",
              "    <tr>\n",
              "      <th>2</th>\n",
              "      <td>2</td>\n",
              "      <td>The role of monetary policy in addressing the ...</td>\n",
              "      <td>Mario Draghi</td>\n",
              "      <td>The role of monetary policy in addressing th...</td>\n",
              "    </tr>\n",
              "    <tr>\n",
              "      <th>3</th>\n",
              "      <td>3</td>\n",
              "      <td>The pandemic emergency: the three challenges f...</td>\n",
              "      <td>Philip R. Lane</td>\n",
              "      <td>SPEECH  The pandemic emergency: the three c...</td>\n",
              "    </tr>\n",
              "    <tr>\n",
              "      <th>4</th>\n",
              "      <td>4</td>\n",
              "      <td>Transmission channels of monetary policy in th...</td>\n",
              "      <td>Peter Praet</td>\n",
              "      <td>Transmission channels of monetary policy in ...</td>\n",
              "    </tr>\n",
              "    <tr>\n",
              "      <th>5</th>\n",
              "      <td>5</td>\n",
              "      <td>Domestic and cross-border spillovers  of uncon...</td>\n",
              "      <td>Benoît Cœuré</td>\n",
              "      <td>Domestic and cross-border spillovers  of unc...</td>\n",
              "    </tr>\n",
              "    <tr>\n",
              "      <th>6</th>\n",
              "      <td>6</td>\n",
              "      <td>Household Finance and Consumption - Opening re...</td>\n",
              "      <td>José Manuel González-Páramo</td>\n",
              "      <td>Household Finance and Consumption - Opening ...</td>\n",
              "    </tr>\n",
              "    <tr>\n",
              "      <th>7</th>\n",
              "      <td>7</td>\n",
              "      <td>The case for cooperation: cross-border CCP sup...</td>\n",
              "      <td>Benoît Cœuré</td>\n",
              "      <td>The case for cooperation: cross-border CCP s...</td>\n",
              "    </tr>\n",
              "    <tr>\n",
              "      <th>8</th>\n",
              "      <td>8</td>\n",
              "      <td>Translating a shared vision into a winning story</td>\n",
              "      <td>Yves Mersch</td>\n",
              "      <td>Translating a shared vision into a winning s...</td>\n",
              "    </tr>\n",
              "    <tr>\n",
              "      <th>9</th>\n",
              "      <td>9</td>\n",
              "      <td>Q&amp;A at UBS event</td>\n",
              "      <td>Yves Mersch</td>\n",
              "      <td>TRANSCRIPT  Q&amp;A at UBS event   Transcript o...</td>\n",
              "    </tr>\n",
              "    <tr>\n",
              "      <th>10</th>\n",
              "      <td>10</td>\n",
              "      <td>Address at Conferencia Buenos Aires 2008, orga...</td>\n",
              "      <td>Lucas Papademos</td>\n",
              "      <td>Address at Conferencia Buenos Aires 2008, or...</td>\n",
              "    </tr>\n",
              "    <tr>\n",
              "      <th>11</th>\n",
              "      <td>11</td>\n",
              "      <td>Systemic Risk</td>\n",
              "      <td>Jean-Claude Trichet</td>\n",
              "      <td>Systemic Risk   Clare Distinguished Lecture ...</td>\n",
              "    </tr>\n",
              "    <tr>\n",
              "      <th>12</th>\n",
              "      <td>12</td>\n",
              "      <td>Working together for growth in Europe</td>\n",
              "      <td>Mario Draghi</td>\n",
              "      <td>Working together for growth in Europe   Intr...</td>\n",
              "    </tr>\n",
              "    <tr>\n",
              "      <th>13</th>\n",
              "      <td>13</td>\n",
              "      <td>The path to recovery and the ECB's role</td>\n",
              "      <td>Mario Draghi</td>\n",
              "      <td>The path to recovery and the ECB’s role    S...</td>\n",
              "    </tr>\n",
              "    <tr>\n",
              "      <th>14</th>\n",
              "      <td>14</td>\n",
              "      <td>Unleashing the euro’s untapped potential at gl...</td>\n",
              "      <td>Fabio Panetta</td>\n",
              "      <td>SPEECH Frankfurt am Main (by video conferen...</td>\n",
              "    </tr>\n",
              "    <tr>\n",
              "      <th>15</th>\n",
              "      <td>15</td>\n",
              "      <td>Presentation of the book entitled “L'acqua e l...</td>\n",
              "      <td>Lorenzo Bini Smaghi</td>\n",
              "      <td>Presentation of the book entitled “L’acqua e...</td>\n",
              "    </tr>\n",
              "    <tr>\n",
              "      <th>16</th>\n",
              "      <td>16</td>\n",
              "      <td>A paradigm change for the global financial system</td>\n",
              "      <td>Jean-Claude Trichet</td>\n",
              "      <td>A paradigm change for the global financial s...</td>\n",
              "    </tr>\n",
              "    <tr>\n",
              "      <th>17</th>\n",
              "      <td>17</td>\n",
              "      <td>Undervalued risk and uncertainty: Some thought...</td>\n",
              "      <td>Jean-Claude Trichet</td>\n",
              "      <td>Undervalued risk and uncertainty: Some thoug...</td>\n",
              "    </tr>\n",
              "    <tr>\n",
              "      <th>18</th>\n",
              "      <td>18</td>\n",
              "      <td>Monetary and financial stability in the euro area</td>\n",
              "      <td>Lorenzo Bini Smaghi</td>\n",
              "      <td>Monetary and financial stability in the euro...</td>\n",
              "    </tr>\n",
              "    <tr>\n",
              "      <th>19</th>\n",
              "      <td>19</td>\n",
              "      <td>Adoption of the euro by Cyprus and Malta</td>\n",
              "      <td>Lucas Papademos</td>\n",
              "      <td>Adoption of the euro by Cyprus and Malta   L...</td>\n",
              "    </tr>\n",
              "  </tbody>\n",
              "</table>\n",
              "</div>\n",
              "      <button class=\"colab-df-convert\" onclick=\"convertToInteractive('df-8455e0e6-38c2-472f-b1d6-d0c34c71de46')\"\n",
              "              title=\"Convert this dataframe to an interactive table.\"\n",
              "              style=\"display:none;\">\n",
              "        \n",
              "  <svg xmlns=\"http://www.w3.org/2000/svg\" height=\"24px\"viewBox=\"0 0 24 24\"\n",
              "       width=\"24px\">\n",
              "    <path d=\"M0 0h24v24H0V0z\" fill=\"none\"/>\n",
              "    <path d=\"M18.56 5.44l.94 2.06.94-2.06 2.06-.94-2.06-.94-.94-2.06-.94 2.06-2.06.94zm-11 1L8.5 8.5l.94-2.06 2.06-.94-2.06-.94L8.5 2.5l-.94 2.06-2.06.94zm10 10l.94 2.06.94-2.06 2.06-.94-2.06-.94-.94-2.06-.94 2.06-2.06.94z\"/><path d=\"M17.41 7.96l-1.37-1.37c-.4-.4-.92-.59-1.43-.59-.52 0-1.04.2-1.43.59L10.3 9.45l-7.72 7.72c-.78.78-.78 2.05 0 2.83L4 21.41c.39.39.9.59 1.41.59.51 0 1.02-.2 1.41-.59l7.78-7.78 2.81-2.81c.8-.78.8-2.07 0-2.86zM5.41 20L4 18.59l7.72-7.72 1.47 1.35L5.41 20z\"/>\n",
              "  </svg>\n",
              "      </button>\n",
              "      \n",
              "  <style>\n",
              "    .colab-df-container {\n",
              "      display:flex;\n",
              "      flex-wrap:wrap;\n",
              "      gap: 12px;\n",
              "    }\n",
              "\n",
              "    .colab-df-convert {\n",
              "      background-color: #E8F0FE;\n",
              "      border: none;\n",
              "      border-radius: 50%;\n",
              "      cursor: pointer;\n",
              "      display: none;\n",
              "      fill: #1967D2;\n",
              "      height: 32px;\n",
              "      padding: 0 0 0 0;\n",
              "      width: 32px;\n",
              "    }\n",
              "\n",
              "    .colab-df-convert:hover {\n",
              "      background-color: #E2EBFA;\n",
              "      box-shadow: 0px 1px 2px rgba(60, 64, 67, 0.3), 0px 1px 3px 1px rgba(60, 64, 67, 0.15);\n",
              "      fill: #174EA6;\n",
              "    }\n",
              "\n",
              "    [theme=dark] .colab-df-convert {\n",
              "      background-color: #3B4455;\n",
              "      fill: #D2E3FC;\n",
              "    }\n",
              "\n",
              "    [theme=dark] .colab-df-convert:hover {\n",
              "      background-color: #434B5C;\n",
              "      box-shadow: 0px 1px 3px 1px rgba(0, 0, 0, 0.15);\n",
              "      filter: drop-shadow(0px 1px 2px rgba(0, 0, 0, 0.3));\n",
              "      fill: #FFFFFF;\n",
              "    }\n",
              "  </style>\n",
              "\n",
              "      <script>\n",
              "        const buttonEl =\n",
              "          document.querySelector('#df-8455e0e6-38c2-472f-b1d6-d0c34c71de46 button.colab-df-convert');\n",
              "        buttonEl.style.display =\n",
              "          google.colab.kernel.accessAllowed ? 'block' : 'none';\n",
              "\n",
              "        async function convertToInteractive(key) {\n",
              "          const element = document.querySelector('#df-8455e0e6-38c2-472f-b1d6-d0c34c71de46');\n",
              "          const dataTable =\n",
              "            await google.colab.kernel.invokeFunction('convertToInteractive',\n",
              "                                                     [key], {});\n",
              "          if (!dataTable) return;\n",
              "\n",
              "          const docLinkHtml = 'Like what you see? Visit the ' +\n",
              "            '<a target=\"_blank\" href=https://colab.research.google.com/notebooks/data_table.ipynb>data table notebook</a>'\n",
              "            + ' to learn more about interactive tables.';\n",
              "          element.innerHTML = '';\n",
              "          dataTable['output_type'] = 'display_data';\n",
              "          await google.colab.output.renderOutput(dataTable, element);\n",
              "          const docLink = document.createElement('div');\n",
              "          docLink.innerHTML = docLinkHtml;\n",
              "          element.appendChild(docLink);\n",
              "        }\n",
              "      </script>\n",
              "    </div>\n",
              "  </div>\n",
              "  "
            ]
          },
          "metadata": {},
          "execution_count": 6
        }
      ]
    },
    {
      "cell_type": "code",
      "source": [
        "import os\n",
        "os.environ['NLTK_DATA'] = '/usr/local/share/nltk_data'\n",
        "import nltk"
      ],
      "metadata": {
        "id": "GDdXy-6tiJnb"
      },
      "id": "GDdXy-6tiJnb",
      "execution_count": 8,
      "outputs": []
    },
    {
      "cell_type": "code",
      "source": [
        "print(nltk.data.path[0])"
      ],
      "metadata": {
        "colab": {
          "base_uri": "https://localhost:8080/"
        },
        "id": "Z32dl3FNhVbo",
        "outputId": "976ad57e-b3cd-4a29-eb5b-cdfb2d5228c6"
      },
      "id": "Z32dl3FNhVbo",
      "execution_count": 9,
      "outputs": [
        {
          "output_type": "stream",
          "name": "stdout",
          "text": [
            "/usr/local/share/nltk_data\n"
          ]
        }
      ]
    },
    {
      "cell_type": "code",
      "source": [
        "import nltk\n",
        "nltk.data.path.append(\"/root/nltk_data\")\n",
        "nltk.download('stopwords')\n",
        "nltk.download('punkt')\n",
        "from nltk.corpus import stopwords\n",
        "from nltk.tokenize import word_tokenize\n",
        "from wordcloud import WordCloud"
      ],
      "metadata": {
        "colab": {
          "base_uri": "https://localhost:8080/"
        },
        "id": "6z38DkNPuPRk",
        "outputId": "f75f61f9-929d-4367-e78b-f4ee4030396b"
      },
      "id": "6z38DkNPuPRk",
      "execution_count": 10,
      "outputs": [
        {
          "output_type": "stream",
          "name": "stderr",
          "text": [
            "[nltk_data] Downloading package stopwords to /root/nltk_data...\n",
            "[nltk_data]   Package stopwords is already up-to-date!\n",
            "[nltk_data] Downloading package punkt to /root/nltk_data...\n",
            "[nltk_data]   Package punkt is already up-to-date!\n"
          ]
        }
      ]
    },
    {
      "cell_type": "code",
      "source": [
        "#Language detection\n",
        "!pip install langdetect\n"
      ],
      "metadata": {
        "colab": {
          "base_uri": "https://localhost:8080/"
        },
        "id": "MZdPy4Xbe623",
        "outputId": "3a900d48-152e-42d3-8424-9f978e5d28ac"
      },
      "id": "MZdPy4Xbe623",
      "execution_count": 11,
      "outputs": [
        {
          "output_type": "stream",
          "name": "stdout",
          "text": [
            "Looking in indexes: https://pypi.org/simple, https://us-python.pkg.dev/colab-wheels/public/simple/\n",
            "Requirement already satisfied: langdetect in /usr/local/lib/python3.8/dist-packages (1.0.9)\n",
            "Requirement already satisfied: six in /usr/local/lib/python3.8/dist-packages (from langdetect) (1.15.0)\n"
          ]
        }
      ]
    },
    {
      "cell_type": "code",
      "source": [
        "from langdetect import detect\n",
        "\n",
        "ecb['language'] = ecb['text'].apply(lambda x: detect(str(x)))"
      ],
      "metadata": {
        "id": "hdNMVfH-fa5Z"
      },
      "id": "hdNMVfH-fa5Z",
      "execution_count": 12,
      "outputs": []
    },
    {
      "cell_type": "code",
      "source": [
        "for lang in ecb['language'].unique():\n",
        "    stop_words = set(nltk.corpus.stopwords.words(lang))\n",
        "    lemmatizer = nltk.stem.WordNetLemmatizer()\n",
        "    ecb.loc[ecb['language'] == lang, 'tokenized_text'] = ecb[ecb['language'] == lang]['text'].apply(lambda x: nltk.word_tokenize(str(x)))\n",
        "    ecb.loc[df['language'] == lang, 'cleaned_text'] = ecb[ecb['language'] == lang]['tokenized_text'].apply(lambda x: [word for word in x if word.lower() not in stop_words])\n",
        "    ecb.loc[ecb['language'] == lang, 'lemmatized_text'] = ecb[ecb['language'] == lang]['cleaned_text'].apply(lambda x: [lemmatizer.lemmatize(word) for word in x])\n"
      ],
      "metadata": {
        "colab": {
          "base_uri": "https://localhost:8080/",
          "height": 425
        },
        "id": "ZrtGn6ZkgLwQ",
        "outputId": "419e49ac-9155-4626-9683-fcd2be0c4f76"
      },
      "id": "ZrtGn6ZkgLwQ",
      "execution_count": 13,
      "outputs": [
        {
          "output_type": "error",
          "ename": "OSError",
          "evalue": "ignored",
          "traceback": [
            "\u001b[0;31m---------------------------------------------------------------------------\u001b[0m",
            "\u001b[0;31mOSError\u001b[0m                                   Traceback (most recent call last)",
            "\u001b[0;32m<ipython-input-13-50ce7c5bd999>\u001b[0m in \u001b[0;36m<module>\u001b[0;34m\u001b[0m\n\u001b[1;32m      1\u001b[0m \u001b[0;32mfor\u001b[0m \u001b[0mlang\u001b[0m \u001b[0;32min\u001b[0m \u001b[0mecb\u001b[0m\u001b[0;34m[\u001b[0m\u001b[0;34m'language'\u001b[0m\u001b[0;34m]\u001b[0m\u001b[0;34m.\u001b[0m\u001b[0munique\u001b[0m\u001b[0;34m(\u001b[0m\u001b[0;34m)\u001b[0m\u001b[0;34m:\u001b[0m\u001b[0;34m\u001b[0m\u001b[0;34m\u001b[0m\u001b[0m\n\u001b[0;32m----> 2\u001b[0;31m     \u001b[0mstop_words\u001b[0m \u001b[0;34m=\u001b[0m \u001b[0mset\u001b[0m\u001b[0;34m(\u001b[0m\u001b[0mnltk\u001b[0m\u001b[0;34m.\u001b[0m\u001b[0mcorpus\u001b[0m\u001b[0;34m.\u001b[0m\u001b[0mstopwords\u001b[0m\u001b[0;34m.\u001b[0m\u001b[0mwords\u001b[0m\u001b[0;34m(\u001b[0m\u001b[0mlang\u001b[0m\u001b[0;34m)\u001b[0m\u001b[0;34m)\u001b[0m\u001b[0;34m\u001b[0m\u001b[0;34m\u001b[0m\u001b[0m\n\u001b[0m\u001b[1;32m      3\u001b[0m     \u001b[0mlemmatizer\u001b[0m \u001b[0;34m=\u001b[0m \u001b[0mnltk\u001b[0m\u001b[0;34m.\u001b[0m\u001b[0mstem\u001b[0m\u001b[0;34m.\u001b[0m\u001b[0mWordNetLemmatizer\u001b[0m\u001b[0;34m(\u001b[0m\u001b[0;34m)\u001b[0m\u001b[0;34m\u001b[0m\u001b[0;34m\u001b[0m\u001b[0m\n\u001b[1;32m      4\u001b[0m     \u001b[0mecb\u001b[0m\u001b[0;34m.\u001b[0m\u001b[0mloc\u001b[0m\u001b[0;34m[\u001b[0m\u001b[0mecb\u001b[0m\u001b[0;34m[\u001b[0m\u001b[0;34m'language'\u001b[0m\u001b[0;34m]\u001b[0m \u001b[0;34m==\u001b[0m \u001b[0mlang\u001b[0m\u001b[0;34m,\u001b[0m \u001b[0;34m'tokenized_text'\u001b[0m\u001b[0;34m]\u001b[0m \u001b[0;34m=\u001b[0m \u001b[0mecb\u001b[0m\u001b[0;34m[\u001b[0m\u001b[0mecb\u001b[0m\u001b[0;34m[\u001b[0m\u001b[0;34m'language'\u001b[0m\u001b[0;34m]\u001b[0m \u001b[0;34m==\u001b[0m \u001b[0mlang\u001b[0m\u001b[0;34m]\u001b[0m\u001b[0;34m[\u001b[0m\u001b[0;34m'text'\u001b[0m\u001b[0;34m]\u001b[0m\u001b[0;34m.\u001b[0m\u001b[0mapply\u001b[0m\u001b[0;34m(\u001b[0m\u001b[0;32mlambda\u001b[0m \u001b[0mx\u001b[0m\u001b[0;34m:\u001b[0m \u001b[0mnltk\u001b[0m\u001b[0;34m.\u001b[0m\u001b[0mword_tokenize\u001b[0m\u001b[0;34m(\u001b[0m\u001b[0mstr\u001b[0m\u001b[0;34m(\u001b[0m\u001b[0mx\u001b[0m\u001b[0;34m)\u001b[0m\u001b[0;34m)\u001b[0m\u001b[0;34m)\u001b[0m\u001b[0;34m\u001b[0m\u001b[0;34m\u001b[0m\u001b[0m\n\u001b[1;32m      5\u001b[0m     \u001b[0mecb\u001b[0m\u001b[0;34m.\u001b[0m\u001b[0mloc\u001b[0m\u001b[0;34m[\u001b[0m\u001b[0mdf\u001b[0m\u001b[0;34m[\u001b[0m\u001b[0;34m'language'\u001b[0m\u001b[0;34m]\u001b[0m \u001b[0;34m==\u001b[0m \u001b[0mlang\u001b[0m\u001b[0;34m,\u001b[0m \u001b[0;34m'cleaned_text'\u001b[0m\u001b[0;34m]\u001b[0m \u001b[0;34m=\u001b[0m \u001b[0mecb\u001b[0m\u001b[0;34m[\u001b[0m\u001b[0mecb\u001b[0m\u001b[0;34m[\u001b[0m\u001b[0;34m'language'\u001b[0m\u001b[0;34m]\u001b[0m \u001b[0;34m==\u001b[0m \u001b[0mlang\u001b[0m\u001b[0;34m]\u001b[0m\u001b[0;34m[\u001b[0m\u001b[0;34m'tokenized_text'\u001b[0m\u001b[0;34m]\u001b[0m\u001b[0;34m.\u001b[0m\u001b[0mapply\u001b[0m\u001b[0;34m(\u001b[0m\u001b[0;32mlambda\u001b[0m \u001b[0mx\u001b[0m\u001b[0;34m:\u001b[0m \u001b[0;34m[\u001b[0m\u001b[0mword\u001b[0m \u001b[0;32mfor\u001b[0m \u001b[0mword\u001b[0m \u001b[0;32min\u001b[0m \u001b[0mx\u001b[0m \u001b[0;32mif\u001b[0m \u001b[0mword\u001b[0m\u001b[0;34m.\u001b[0m\u001b[0mlower\u001b[0m\u001b[0;34m(\u001b[0m\u001b[0;34m)\u001b[0m \u001b[0;32mnot\u001b[0m \u001b[0;32min\u001b[0m \u001b[0mstop_words\u001b[0m\u001b[0;34m]\u001b[0m\u001b[0;34m)\u001b[0m\u001b[0;34m\u001b[0m\u001b[0;34m\u001b[0m\u001b[0m\n",
            "\u001b[0;32m/usr/local/lib/python3.8/dist-packages/nltk/corpus/reader/wordlist.py\u001b[0m in \u001b[0;36mwords\u001b[0;34m(self, fileids, ignore_lines_startswith)\u001b[0m\n\u001b[1;32m     19\u001b[0m         return [\n\u001b[1;32m     20\u001b[0m             \u001b[0mline\u001b[0m\u001b[0;34m\u001b[0m\u001b[0;34m\u001b[0m\u001b[0m\n\u001b[0;32m---> 21\u001b[0;31m             \u001b[0;32mfor\u001b[0m \u001b[0mline\u001b[0m \u001b[0;32min\u001b[0m \u001b[0mline_tokenize\u001b[0m\u001b[0;34m(\u001b[0m\u001b[0mself\u001b[0m\u001b[0;34m.\u001b[0m\u001b[0mraw\u001b[0m\u001b[0;34m(\u001b[0m\u001b[0mfileids\u001b[0m\u001b[0;34m)\u001b[0m\u001b[0;34m)\u001b[0m\u001b[0;34m\u001b[0m\u001b[0;34m\u001b[0m\u001b[0m\n\u001b[0m\u001b[1;32m     22\u001b[0m             \u001b[0;32mif\u001b[0m \u001b[0;32mnot\u001b[0m \u001b[0mline\u001b[0m\u001b[0;34m.\u001b[0m\u001b[0mstartswith\u001b[0m\u001b[0;34m(\u001b[0m\u001b[0mignore_lines_startswith\u001b[0m\u001b[0;34m)\u001b[0m\u001b[0;34m\u001b[0m\u001b[0;34m\u001b[0m\u001b[0m\n\u001b[1;32m     23\u001b[0m         ]\n",
            "\u001b[0;32m/usr/local/lib/python3.8/dist-packages/nltk/corpus/reader/api.py\u001b[0m in \u001b[0;36mraw\u001b[0;34m(self, fileids)\u001b[0m\n\u001b[1;32m    216\u001b[0m         \u001b[0mcontents\u001b[0m \u001b[0;34m=\u001b[0m \u001b[0;34m[\u001b[0m\u001b[0;34m]\u001b[0m\u001b[0;34m\u001b[0m\u001b[0;34m\u001b[0m\u001b[0m\n\u001b[1;32m    217\u001b[0m         \u001b[0;32mfor\u001b[0m \u001b[0mf\u001b[0m \u001b[0;32min\u001b[0m \u001b[0mfileids\u001b[0m\u001b[0;34m:\u001b[0m\u001b[0;34m\u001b[0m\u001b[0;34m\u001b[0m\u001b[0m\n\u001b[0;32m--> 218\u001b[0;31m             \u001b[0;32mwith\u001b[0m \u001b[0mself\u001b[0m\u001b[0;34m.\u001b[0m\u001b[0mopen\u001b[0m\u001b[0;34m(\u001b[0m\u001b[0mf\u001b[0m\u001b[0;34m)\u001b[0m \u001b[0;32mas\u001b[0m \u001b[0mfp\u001b[0m\u001b[0;34m:\u001b[0m\u001b[0;34m\u001b[0m\u001b[0;34m\u001b[0m\u001b[0m\n\u001b[0m\u001b[1;32m    219\u001b[0m                 \u001b[0mcontents\u001b[0m\u001b[0;34m.\u001b[0m\u001b[0mappend\u001b[0m\u001b[0;34m(\u001b[0m\u001b[0mfp\u001b[0m\u001b[0;34m.\u001b[0m\u001b[0mread\u001b[0m\u001b[0;34m(\u001b[0m\u001b[0;34m)\u001b[0m\u001b[0;34m)\u001b[0m\u001b[0;34m\u001b[0m\u001b[0;34m\u001b[0m\u001b[0m\n\u001b[1;32m    220\u001b[0m         \u001b[0;32mreturn\u001b[0m \u001b[0mconcat\u001b[0m\u001b[0;34m(\u001b[0m\u001b[0mcontents\u001b[0m\u001b[0;34m)\u001b[0m\u001b[0;34m\u001b[0m\u001b[0;34m\u001b[0m\u001b[0m\n",
            "\u001b[0;32m/usr/local/lib/python3.8/dist-packages/nltk/corpus/reader/api.py\u001b[0m in \u001b[0;36mopen\u001b[0;34m(self, file)\u001b[0m\n\u001b[1;32m    229\u001b[0m         \"\"\"\n\u001b[1;32m    230\u001b[0m         \u001b[0mencoding\u001b[0m \u001b[0;34m=\u001b[0m \u001b[0mself\u001b[0m\u001b[0;34m.\u001b[0m\u001b[0mencoding\u001b[0m\u001b[0;34m(\u001b[0m\u001b[0mfile\u001b[0m\u001b[0;34m)\u001b[0m\u001b[0;34m\u001b[0m\u001b[0;34m\u001b[0m\u001b[0m\n\u001b[0;32m--> 231\u001b[0;31m         \u001b[0mstream\u001b[0m \u001b[0;34m=\u001b[0m \u001b[0mself\u001b[0m\u001b[0;34m.\u001b[0m\u001b[0m_root\u001b[0m\u001b[0;34m.\u001b[0m\u001b[0mjoin\u001b[0m\u001b[0;34m(\u001b[0m\u001b[0mfile\u001b[0m\u001b[0;34m)\u001b[0m\u001b[0;34m.\u001b[0m\u001b[0mopen\u001b[0m\u001b[0;34m(\u001b[0m\u001b[0mencoding\u001b[0m\u001b[0;34m)\u001b[0m\u001b[0;34m\u001b[0m\u001b[0;34m\u001b[0m\u001b[0m\n\u001b[0m\u001b[1;32m    232\u001b[0m         \u001b[0;32mreturn\u001b[0m \u001b[0mstream\u001b[0m\u001b[0;34m\u001b[0m\u001b[0;34m\u001b[0m\u001b[0m\n\u001b[1;32m    233\u001b[0m \u001b[0;34m\u001b[0m\u001b[0m\n",
            "\u001b[0;32m/usr/local/lib/python3.8/dist-packages/nltk/data.py\u001b[0m in \u001b[0;36mjoin\u001b[0;34m(self, fileid)\u001b[0m\n\u001b[1;32m    332\u001b[0m     \u001b[0;32mdef\u001b[0m \u001b[0mjoin\u001b[0m\u001b[0;34m(\u001b[0m\u001b[0mself\u001b[0m\u001b[0;34m,\u001b[0m \u001b[0mfileid\u001b[0m\u001b[0;34m)\u001b[0m\u001b[0;34m:\u001b[0m\u001b[0;34m\u001b[0m\u001b[0;34m\u001b[0m\u001b[0m\n\u001b[1;32m    333\u001b[0m         \u001b[0m_path\u001b[0m \u001b[0;34m=\u001b[0m \u001b[0mos\u001b[0m\u001b[0;34m.\u001b[0m\u001b[0mpath\u001b[0m\u001b[0;34m.\u001b[0m\u001b[0mjoin\u001b[0m\u001b[0;34m(\u001b[0m\u001b[0mself\u001b[0m\u001b[0;34m.\u001b[0m\u001b[0m_path\u001b[0m\u001b[0;34m,\u001b[0m \u001b[0mfileid\u001b[0m\u001b[0;34m)\u001b[0m\u001b[0;34m\u001b[0m\u001b[0;34m\u001b[0m\u001b[0m\n\u001b[0;32m--> 334\u001b[0;31m         \u001b[0;32mreturn\u001b[0m \u001b[0mFileSystemPathPointer\u001b[0m\u001b[0;34m(\u001b[0m\u001b[0m_path\u001b[0m\u001b[0;34m)\u001b[0m\u001b[0;34m\u001b[0m\u001b[0;34m\u001b[0m\u001b[0m\n\u001b[0m\u001b[1;32m    335\u001b[0m \u001b[0;34m\u001b[0m\u001b[0m\n\u001b[1;32m    336\u001b[0m     \u001b[0;32mdef\u001b[0m \u001b[0m__repr__\u001b[0m\u001b[0;34m(\u001b[0m\u001b[0mself\u001b[0m\u001b[0;34m)\u001b[0m\u001b[0;34m:\u001b[0m\u001b[0;34m\u001b[0m\u001b[0;34m\u001b[0m\u001b[0m\n",
            "\u001b[0;32m/usr/local/lib/python3.8/dist-packages/nltk/compat.py\u001b[0m in \u001b[0;36m_decorator\u001b[0;34m(*args, **kwargs)\u001b[0m\n\u001b[1;32m     39\u001b[0m     \u001b[0;32mdef\u001b[0m \u001b[0m_decorator\u001b[0m\u001b[0;34m(\u001b[0m\u001b[0;34m*\u001b[0m\u001b[0margs\u001b[0m\u001b[0;34m,\u001b[0m \u001b[0;34m**\u001b[0m\u001b[0mkwargs\u001b[0m\u001b[0;34m)\u001b[0m\u001b[0;34m:\u001b[0m\u001b[0;34m\u001b[0m\u001b[0;34m\u001b[0m\u001b[0m\n\u001b[1;32m     40\u001b[0m         \u001b[0margs\u001b[0m \u001b[0;34m=\u001b[0m \u001b[0;34m(\u001b[0m\u001b[0margs\u001b[0m\u001b[0;34m[\u001b[0m\u001b[0;36m0\u001b[0m\u001b[0;34m]\u001b[0m\u001b[0;34m,\u001b[0m \u001b[0madd_py3_data\u001b[0m\u001b[0;34m(\u001b[0m\u001b[0margs\u001b[0m\u001b[0;34m[\u001b[0m\u001b[0;36m1\u001b[0m\u001b[0;34m]\u001b[0m\u001b[0;34m)\u001b[0m\u001b[0;34m)\u001b[0m \u001b[0;34m+\u001b[0m \u001b[0margs\u001b[0m\u001b[0;34m[\u001b[0m\u001b[0;36m2\u001b[0m\u001b[0;34m:\u001b[0m\u001b[0;34m]\u001b[0m\u001b[0;34m\u001b[0m\u001b[0;34m\u001b[0m\u001b[0m\n\u001b[0;32m---> 41\u001b[0;31m         \u001b[0;32mreturn\u001b[0m \u001b[0minit_func\u001b[0m\u001b[0;34m(\u001b[0m\u001b[0;34m*\u001b[0m\u001b[0margs\u001b[0m\u001b[0;34m,\u001b[0m \u001b[0;34m**\u001b[0m\u001b[0mkwargs\u001b[0m\u001b[0;34m)\u001b[0m\u001b[0;34m\u001b[0m\u001b[0;34m\u001b[0m\u001b[0m\n\u001b[0m\u001b[1;32m     42\u001b[0m \u001b[0;34m\u001b[0m\u001b[0m\n\u001b[1;32m     43\u001b[0m     \u001b[0;32mreturn\u001b[0m \u001b[0mwraps\u001b[0m\u001b[0;34m(\u001b[0m\u001b[0minit_func\u001b[0m\u001b[0;34m)\u001b[0m\u001b[0;34m(\u001b[0m\u001b[0m_decorator\u001b[0m\u001b[0;34m)\u001b[0m\u001b[0;34m\u001b[0m\u001b[0;34m\u001b[0m\u001b[0m\n",
            "\u001b[0;32m/usr/local/lib/python3.8/dist-packages/nltk/data.py\u001b[0m in \u001b[0;36m__init__\u001b[0;34m(self, _path)\u001b[0m\n\u001b[1;32m    310\u001b[0m         \u001b[0m_path\u001b[0m \u001b[0;34m=\u001b[0m \u001b[0mos\u001b[0m\u001b[0;34m.\u001b[0m\u001b[0mpath\u001b[0m\u001b[0;34m.\u001b[0m\u001b[0mabspath\u001b[0m\u001b[0;34m(\u001b[0m\u001b[0m_path\u001b[0m\u001b[0;34m)\u001b[0m\u001b[0;34m\u001b[0m\u001b[0;34m\u001b[0m\u001b[0m\n\u001b[1;32m    311\u001b[0m         \u001b[0;32mif\u001b[0m \u001b[0;32mnot\u001b[0m \u001b[0mos\u001b[0m\u001b[0;34m.\u001b[0m\u001b[0mpath\u001b[0m\u001b[0;34m.\u001b[0m\u001b[0mexists\u001b[0m\u001b[0;34m(\u001b[0m\u001b[0m_path\u001b[0m\u001b[0;34m)\u001b[0m\u001b[0;34m:\u001b[0m\u001b[0;34m\u001b[0m\u001b[0;34m\u001b[0m\u001b[0m\n\u001b[0;32m--> 312\u001b[0;31m             \u001b[0;32mraise\u001b[0m \u001b[0mOSError\u001b[0m\u001b[0;34m(\u001b[0m\u001b[0;34m\"No such file or directory: %r\"\u001b[0m \u001b[0;34m%\u001b[0m \u001b[0m_path\u001b[0m\u001b[0;34m)\u001b[0m\u001b[0;34m\u001b[0m\u001b[0;34m\u001b[0m\u001b[0m\n\u001b[0m\u001b[1;32m    313\u001b[0m         \u001b[0mself\u001b[0m\u001b[0;34m.\u001b[0m\u001b[0m_path\u001b[0m \u001b[0;34m=\u001b[0m \u001b[0m_path\u001b[0m\u001b[0;34m\u001b[0m\u001b[0;34m\u001b[0m\u001b[0m\n\u001b[1;32m    314\u001b[0m \u001b[0;34m\u001b[0m\u001b[0m\n",
            "\u001b[0;31mOSError\u001b[0m: No such file or directory: '/root/nltk_data/corpora/stopwords/en'"
          ]
        }
      ]
    },
    {
      "cell_type": "code",
      "source": [
        "titles = ecb[\"title\"].str.cat(sep = \" \")\n",
        "titles = titles.lower()"
      ],
      "metadata": {
        "id": "hjfJbKXitNCN"
      },
      "id": "hjfJbKXitNCN",
      "execution_count": 33,
      "outputs": []
    },
    {
      "cell_type": "code",
      "source": [
        "tokens_titles = nltk.word_tokenize(titles)\n"
      ],
      "metadata": {
        "id": "u9AvgIDt-x9a"
      },
      "id": "u9AvgIDt-x9a",
      "execution_count": 34,
      "outputs": []
    },
    {
      "cell_type": "code",
      "source": [
        "wordcloud = WordCloud().generate(\" \".join(tokens_titles))\n",
        "\n",
        "plt.imshow(wordcloud, interpolation ='bilinear')\n",
        "plt.axis(\"off\")\n",
        "plt.show()"
      ],
      "metadata": {
        "colab": {
          "base_uri": "https://localhost:8080/",
          "height": 198
        },
        "id": "c2yUkSRO_Ne7",
        "outputId": "546bda2d-9af0-45ce-d733-9c616332fbdd"
      },
      "id": "c2yUkSRO_Ne7",
      "execution_count": 35,
      "outputs": [
        {
          "output_type": "display_data",
          "data": {
            "text/plain": [
              "<Figure size 432x288 with 1 Axes>"
            ],
            "image/png": "[encoded data removed]"
          },
          "metadata": {
            "needs_background": "light"
          }
        }
      ]
    },
    {
      "cell_type": "code",
      "source": [
        "ecb['tokenized_text'] = ecb['text'].apply(nltk.word_tokenize)"
      ],
      "metadata": {
        "id": "FlEXzEuoeDsx"
      },
      "id": "FlEXzEuoeDsx",
      "execution_count": 60,
      "outputs": []
    },
    {
      "cell_type": "code",
      "source": [
        "#TextBlob\n",
        "!pip install textblob"
      ],
      "metadata": {
        "colab": {
          "base_uri": "https://localhost:8080/"
        },
        "id": "F7Sc2-XeZ0po",
        "outputId": "bf5e9026-73d9-410e-c468-b9e8303eea52"
      },
      "id": "F7Sc2-XeZ0po",
      "execution_count": 36,
      "outputs": [
        {
          "output_type": "stream",
          "name": "stdout",
          "text": [
            "Looking in indexes: https://pypi.org/simple, https://us-python.pkg.dev/colab-wheels/public/simple/\n",
            "Requirement already satisfied: textblob in /usr/local/lib/python3.8/dist-packages (0.15.3)\n",
            "Requirement already satisfied: nltk>=3.1 in /usr/local/lib/python3.8/dist-packages (from textblob) (3.7)\n",
            "Requirement already satisfied: regex>=2021.8.3 in /usr/local/lib/python3.8/dist-packages (from nltk>=3.1->textblob) (2022.6.2)\n",
            "Requirement already satisfied: joblib in /usr/local/lib/python3.8/dist-packages (from nltk>=3.1->textblob) (1.2.0)\n",
            "Requirement already satisfied: tqdm in /usr/local/lib/python3.8/dist-packages (from nltk>=3.1->textblob) (4.64.1)\n",
            "Requirement already satisfied: click in /usr/local/lib/python3.8/dist-packages (from nltk>=3.1->textblob) (7.1.2)\n"
          ]
        }
      ]
    },
    {
      "cell_type": "code",
      "source": [
        "from textblob import TextBlob"
      ],
      "metadata": {
        "id": "_I3IPS8saVwK"
      },
      "id": "_I3IPS8saVwK",
      "execution_count": 20,
      "outputs": []
    },
    {
      "cell_type": "code",
      "source": [
        "#Fonction pour appliquer textblob\n",
        "def get_sentiment(text):\n",
        "    blob = TextBlob(text)\n",
        "    sentiment_score = blob.sentiment.polarity\n",
        "    return sentiment_score"
      ],
      "metadata": {
        "id": "pmsgn9BrafFs"
      },
      "id": "pmsgn9BrafFs",
      "execution_count": 14,
      "outputs": []
    },
    {
      "cell_type": "code",
      "source": [
        "ecb['text'] = ecb['text'].astype(str)"
      ],
      "metadata": {
        "id": "arlbcT0PbGJA"
      },
      "id": "arlbcT0PbGJA",
      "execution_count": 18,
      "outputs": []
    },
    {
      "cell_type": "code",
      "source": [
        "type(ecb['text'])"
      ],
      "metadata": {
        "colab": {
          "base_uri": "https://localhost:8080/"
        },
        "id": "CIidP0tdbK9d",
        "outputId": "3353175a-71ae-477c-bbb6-0f472ad0c97c"
      },
      "id": "CIidP0tdbK9d",
      "execution_count": 16,
      "outputs": [
        {
          "output_type": "execute_result",
          "data": {
            "text/plain": [
              "pandas.core.series.Series"
            ]
          },
          "metadata": {},
          "execution_count": 16
        }
      ]
    },
    {
      "cell_type": "code",
      "source": [
        "ecb['sentiment_score'] = ecb['text'].apply(get_sentiment)"
      ],
      "metadata": {
        "id": "rqApld59akqW"
      },
      "id": "rqApld59akqW",
      "execution_count": 21,
      "outputs": []
    },
    {
      "cell_type": "code",
      "source": [
        "ecb.loc[ecb['sentiment_score'].idxmax()]['text']"
      ],
      "metadata": {
        "colab": {
          "base_uri": "https://localhost:8080/",
          "height": 71
        },
        "id": "gNghH87TbaBA",
        "outputId": "ce96adaf-0f40-4ae2-e301-1fa2a1426b0b"
      },
      "id": "gNghH87TbaBA",
      "execution_count": 22,
      "outputs": [
        {
          "output_type": "execute_result",
          "data": {
            "text/plain": [
              "'  Les décisions de la BCE depuis la crise : un tour d’horizon   Presentation by Benoît Cœuré, Member of the Executive Board of the ECB,at La Cour des comptes,Paris, 11 mai 2016 (Slides available for download)     SEE ALSO  Find out more about related content   Slides from the presentation Slides in pdf format (FR)   '"
            ],
            "application/vnd.google.colaboratory.intrinsic+json": {
              "type": "string"
            }
          },
          "metadata": {},
          "execution_count": 22
        }
      ]
    },
    {
      "cell_type": "code",
      "source": [
        "ecb.loc[ecb['sentiment_score'].idxmin()]['title']"
      ],
      "metadata": {
        "colab": {
          "base_uri": "https://localhost:8080/",
          "height": 35
        },
        "id": "qI7HSTUZc_cN",
        "outputId": "898ccc7d-4bd5-41cb-c1d1-60f379489136"
      },
      "id": "qI7HSTUZc_cN",
      "execution_count": 25,
      "outputs": [
        {
          "output_type": "execute_result",
          "data": {
            "text/plain": [
              "'Ist die europäische Wirtschafts- und Währungsunion  eine Solidargemeinschaft?  Soll sie es sein?'"
            ],
            "application/vnd.google.colaboratory.intrinsic+json": {
              "type": "string"
            }
          },
          "metadata": {},
          "execution_count": 25
        }
      ]
    },
    {
      "cell_type": "code",
      "source": [
        "ecb['sentiment_score'].describe()"
      ],
      "metadata": {
        "colab": {
          "base_uri": "https://localhost:8080/",
          "height": 169
        },
        "id": "HVdtmV8FdUy1",
        "outputId": "eb8a6b20-dfd9-494c-ab28-57eb2944f68c"
      },
      "id": "HVdtmV8FdUy1",
      "execution_count": 1,
      "outputs": [
        {
          "output_type": "error",
          "ename": "NameError",
          "evalue": "ignored",
          "traceback": [
            "\u001b[0;31m---------------------------------------------------------------------------\u001b[0m",
            "\u001b[0;31mNameError\u001b[0m                                 Traceback (most recent call last)",
            "\u001b[0;32m<ipython-input-1-7ff5fbbbbca5>\u001b[0m in \u001b[0;36m<module>\u001b[0;34m\u001b[0m\n\u001b[0;32m----> 1\u001b[0;31m \u001b[0mecb\u001b[0m\u001b[0;34m[\u001b[0m\u001b[0;34m'sentiment_score'\u001b[0m\u001b[0;34m]\u001b[0m\u001b[0;34m.\u001b[0m\u001b[0mdescribe\u001b[0m\u001b[0;34m(\u001b[0m\u001b[0;34m)\u001b[0m\u001b[0;34m\u001b[0m\u001b[0;34m\u001b[0m\u001b[0m\n\u001b[0m",
            "\u001b[0;31mNameError\u001b[0m: name 'ecb' is not defined"
          ]
        }
      ]
    },
    {
      "cell_type": "code",
      "source": [
        "#Transformers\n",
        "!pip install transformers"
      ],
      "metadata": {
        "colab": {
          "base_uri": "https://localhost:8080/"
        },
        "id": "V2KpwUxVin0c",
        "outputId": "80df4eea-d490-43aa-b1b8-3590d1a504e6"
      },
      "id": "V2KpwUxVin0c",
      "execution_count": 26,
      "outputs": [
        {
          "output_type": "stream",
          "name": "stdout",
          "text": [
            "Looking in indexes: https://pypi.org/simple, https://us-python.pkg.dev/colab-wheels/public/simple/\n",
            "Requirement already satisfied: transformers in /usr/local/lib/python3.8/dist-packages (4.26.1)\n",
            "Requirement already satisfied: filelock in /usr/local/lib/python3.8/dist-packages (from transformers) (3.9.0)\n",
            "Requirement already satisfied: pyyaml>=5.1 in /usr/local/lib/python3.8/dist-packages (from transformers) (6.0)\n",
            "Requirement already satisfied: numpy>=1.17 in /usr/local/lib/python3.8/dist-packages (from transformers) (1.21.6)\n",
            "Requirement already satisfied: packaging>=20.0 in /usr/local/lib/python3.8/dist-packages (from transformers) (23.0)\n",
            "Requirement already satisfied: tokenizers!=0.11.3,<0.14,>=0.11.1 in /usr/local/lib/python3.8/dist-packages (from transformers) (0.13.2)\n",
            "Requirement already satisfied: regex!=2019.12.17 in /usr/local/lib/python3.8/dist-packages (from transformers) (2022.6.2)\n",
            "Requirement already satisfied: huggingface-hub<1.0,>=0.11.0 in /usr/local/lib/python3.8/dist-packages (from transformers) (0.12.1)\n",
            "Requirement already satisfied: requests in /usr/local/lib/python3.8/dist-packages (from transformers) (2.25.1)\n",
            "Requirement already satisfied: tqdm>=4.27 in /usr/local/lib/python3.8/dist-packages (from transformers) (4.64.1)\n",
            "Requirement already satisfied: typing-extensions>=3.7.4.3 in /usr/local/lib/python3.8/dist-packages (from huggingface-hub<1.0,>=0.11.0->transformers) (4.5.0)\n",
            "Requirement already satisfied: idna<3,>=2.5 in /usr/local/lib/python3.8/dist-packages (from requests->transformers) (2.10)\n",
            "Requirement already satisfied: chardet<5,>=3.0.2 in /usr/local/lib/python3.8/dist-packages (from requests->transformers) (4.0.0)\n",
            "Requirement already satisfied: certifi>=2017.4.17 in /usr/local/lib/python3.8/dist-packages (from requests->transformers) (2022.12.7)\n",
            "Requirement already satisfied: urllib3<1.27,>=1.21.1 in /usr/local/lib/python3.8/dist-packages (from requests->transformers) (1.24.3)\n"
          ]
        }
      ]
    },
    {
      "cell_type": "code",
      "source": [
        "from transformers import pipeline\n",
        "from transformers import LongformerTokenizer, LongformerModel"
      ],
      "metadata": {
        "id": "gWfLGiYniu2w"
      },
      "id": "gWfLGiYniu2w",
      "execution_count": 27,
      "outputs": []
    },
    {
      "cell_type": "code",
      "source": [
        "tokenizer = LongformerTokenizer.from_pretrained('allenai/longformer-base-4096')\n",
        "model = LongformerModel.from_pretrained('allenai/longformer-base-4096')"
      ],
      "metadata": {
        "colab": {
          "base_uri": "https://localhost:8080/"
        },
        "id": "ZAmOvsQxlArs",
        "outputId": "e8e2d3de-352b-4388-bafe-52f7ee79cb67"
      },
      "id": "ZAmOvsQxlArs",
      "execution_count": 28,
      "outputs": [
        {
          "output_type": "stream",
          "name": "stderr",
          "text": [
            "Some weights of the model checkpoint at allenai/longformer-base-4096 were not used when initializing LongformerModel: ['lm_head.bias', 'lm_head.decoder.weight', 'lm_head.layer_norm.weight', 'lm_head.dense.weight', 'lm_head.layer_norm.bias', 'lm_head.dense.bias']\n",
            "- This IS expected if you are initializing LongformerModel from the checkpoint of a model trained on another task or with another architecture (e.g. initializing a BertForSequenceClassification model from a BertForPreTraining model).\n",
            "- This IS NOT expected if you are initializing LongformerModel from the checkpoint of a model that you expect to be exactly identical (initializing a BertForSequenceClassification model from a BertForSequenceClassification model).\n"
          ]
        }
      ]
    },
    {
      "cell_type": "code",
      "source": [
        "inputs = []\n",
        "\n",
        "for text in ecb[\"text\"]:\n",
        "    input_ids = tokenizer.encode(text, add_special_tokens=True, max_length=512, truncation=True)\n",
        "    inputs.append(input_ids)"
      ],
      "metadata": {
        "id": "zRQOrm0MlTIx"
      },
      "id": "zRQOrm0MlTIx",
      "execution_count": 29,
      "outputs": []
    },
    {
      "cell_type": "code",
      "source": [
        "from tensorflow.keras.preprocessing.sequence import pad_sequences\n",
        "\n",
        "inputs = pad_sequences(inputs, maxlen=512, dtype=\"long\", value=0, truncating=\"post\", padding=\"post\")\n"
      ],
      "metadata": {
        "id": "oGwDkkxclcmt"
      },
      "id": "oGwDkkxclcmt",
      "execution_count": 30,
      "outputs": []
    },
    {
      "cell_type": "code",
      "source": [
        "#On applique le modele sur les imputs\n",
        "import torch\n",
        "\n",
        "with torch.no_grad():\n",
        "    inputs = torch.LongTensor(inputs)\n",
        "    outputs = model(inputs)"
      ],
      "metadata": {
        "id": "_4bSj1pflh_G"
      },
      "id": "_4bSj1pflh_G",
      "execution_count": null,
      "outputs": []
    },
    {
      "cell_type": "code",
      "source": [],
      "metadata": {
        "id": "hbdlB4X0llvs"
      },
      "id": "hbdlB4X0llvs",
      "execution_count": null,
      "outputs": []
    }
  ],
  "metadata": {
    "kernelspec": {
      "display_name": "Python 3",
      "language": "python",
      "name": "python3"
    },
    "language_info": {
      "codemirror_mode": {
        "name": "ipython",
        "version": 3
      },
      "file_extension": ".py",
      "mimetype": "text/x-python",
      "name": "python",
      "nbconvert_exporter": "python",
      "pygments_lexer": "ipython3",
      "version": "3.8.8"
    },
    "colab": {
      "provenance": []
    }
  },
  "nbformat": 4,
  "nbformat_minor": 5
}